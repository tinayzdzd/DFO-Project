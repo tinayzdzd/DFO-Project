{
 "cells": [
  {
   "cell_type": "code",
   "execution_count": 3,
   "metadata": {
    "collapsed": true
   },
   "outputs": [],
   "source": [
    "import socket\n",
    "import sys"
   ]
  },
  {
   "cell_type": "code",
   "execution_count": 4,
   "metadata": {},
   "outputs": [],
   "source": [
    "Host = '127.0.0.1'\n",
    "Port = 3001"
   ]
  },
  {
   "cell_type": "code",
   "execution_count": 5,
   "metadata": {},
   "outputs": [
    {
     "name": "stdout",
     "output_type": "stream",
     "text": [
      "Recieved:  b'$GPRMC,085822.303,A,3459.85,S,13830.05,E,5.0,13.0,071120,,,*0F\\r\\n$IIVHW,13.0,T,13.0,M,5.0,N,9.4,K*5D\\r\\n$IIHDT,13.0,T*10\\r\\n$GPGLL,3459.85,S,13830.05,E,085822.303,A*26\\r\\n$GPGGA,085822.303,3459.85,S,13830.05,E,1,4,2.4,2.0,M,,,,*2D\\r\\n$GPGSA,A,3,8,11,15,22,,,,,,,,,1.8,2.4,2.4*07\\r\\n$GPZDA,085822.303,07,11,2020,03,30*54\\r\\n!AIVDO,1,1,,A,17PaewhP0jar0IMcvFg@P@Hd0000,0*0C\\r\\n$WIMWV,341.9,T,19.0,N,A*12\\r\\n$WIMWD,341.9,T,341.9,M,19.0,N,9.8,M*63\\r\\n$WIMWV,335.3,R,45.6,M,A*11\\r\\n$IIMTW,8.2,C*29\\r\\n$SDDPT,20.2,0.3*64\\r\\n$SDDBT,66.3,f,20.2,M,11.1,F*34\\r\\n$SDDBK,66.3,f,20.2,M,11.1,F*2B\\r\\n$SDDBS,66.3,f,20.2,M,11.1,F*33\\r\\n!AIVDO,2,1,9,A,57Paewh00001<To7;?@plD5<Tl0000000000000U1@:552k`r2TnA3QF,0*73\\r\\n!AIVDO,2,2,9,A,@00000000000002,2*5D\\r\\n$IIRPM,E,1,0,10.5,A*7C\\r\\n$IIRPM,E,2,0,10.5,A*7F\\r\\n'\n"
     ]
    }
   ],
   "source": [
    "with socket.socket(socket.AF_INET, socket.SOCK_STREAM) as client:\n",
    "    client.connect((Host, Port))\n",
    "    data = client.recv(1024)\n",
    "\n",
    "print('Recieved: ', repr(data))"
   ]
  },
  {
   "cell_type": "code",
   "execution_count": null,
   "metadata": {
    "collapsed": true
   },
   "outputs": [],
   "source": [
    "try:\n",
    "    print(sys.stderr, 'connection from', client_address)\n",
    "    while True:\n",
    "        data = connection.recv(16)\n",
    "        print(sys.stderr, 'received \"%s\"' % data)\n",
    "        if data:\n",
    "            print(sys.stderr, 'sending data back to the client')\n",
    "            connection.sendall(data)\n",
    "        else:\n",
    "            print(sys.stderr, 'no more data from', client_address)\n",
    "            break\n",
    "    finally:\n",
    "        connection.close()"
   ]
  },
  {
   "cell_type": "code",
   "execution_count": null,
   "metadata": {
    "collapsed": true
   },
   "outputs": [],
   "source": []
  }
 ],
 "metadata": {
  "kernelspec": {
   "display_name": "Python 3",
   "language": "python",
   "name": "python3"
  },
  "language_info": {
   "codemirror_mode": {
    "name": "ipython",
    "version": 3
   },
   "file_extension": ".py",
   "mimetype": "text/x-python",
   "name": "python",
   "nbconvert_exporter": "python",
   "pygments_lexer": "ipython3",
   "version": "3.6.4"
  }
 },
 "nbformat": 4,
 "nbformat_minor": 2
}
