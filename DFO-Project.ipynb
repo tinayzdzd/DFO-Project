{
 "cells": [
  {
   "cell_type": "code",
   "execution_count": 1,
   "metadata": {
    "collapsed": true
   },
   "outputs": [],
   "source": [
    "import socket\n",
    "import sys"
   ]
  },
  {
   "cell_type": "code",
   "execution_count": 2,
   "metadata": {
    "collapsed": true
   },
   "outputs": [],
   "source": [
    "Host = '127.0.0.1'\n",
    "Port = 3002"
   ]
  },
  {
   "cell_type": "code",
   "execution_count": 3,
   "metadata": {},
   "outputs": [
    {
     "ename": "KeyboardInterrupt",
     "evalue": "",
     "output_type": "error",
     "traceback": [
      "\u001b[0;31m---------------------------------------------------------------------------\u001b[0m",
      "\u001b[0;31mKeyboardInterrupt\u001b[0m                         Traceback (most recent call last)",
      "\u001b[0;32m<ipython-input-3-19530d250718>\u001b[0m in \u001b[0;36m<module>\u001b[0;34m\u001b[0m\n\u001b[1;32m      3\u001b[0m     \u001b[0mclient\u001b[0m\u001b[0;34m.\u001b[0m\u001b[0mconnect\u001b[0m\u001b[0;34m(\u001b[0m\u001b[0;34m(\u001b[0m\u001b[0mHost\u001b[0m\u001b[0;34m,\u001b[0m \u001b[0mPort\u001b[0m\u001b[0;34m)\u001b[0m\u001b[0;34m)\u001b[0m\u001b[0;34m\u001b[0m\u001b[0m\n\u001b[1;32m      4\u001b[0m     \u001b[0;32mwhile\u001b[0m \u001b[0;32mTrue\u001b[0m\u001b[0;34m:\u001b[0m\u001b[0;34m\u001b[0m\u001b[0m\n\u001b[0;32m----> 5\u001b[0;31m         \u001b[0mresponse\u001b[0m \u001b[0;34m=\u001b[0m \u001b[0mclient\u001b[0m\u001b[0;34m.\u001b[0m\u001b[0mrecv\u001b[0m\u001b[0;34m(\u001b[0m\u001b[0;36m1024\u001b[0m\u001b[0;34m)\u001b[0m\u001b[0;34m\u001b[0m\u001b[0m\n\u001b[0m\u001b[1;32m      6\u001b[0m         \u001b[0;32mif\u001b[0m \u001b[0mresponse\u001b[0m \u001b[0;34m!=\u001b[0m \u001b[0;34m\"\"\u001b[0m\u001b[0;34m:\u001b[0m\u001b[0;34m\u001b[0m\u001b[0m\n\u001b[1;32m      7\u001b[0m             \u001b[0;31m#print(response)\u001b[0m\u001b[0;34m\u001b[0m\u001b[0;34m\u001b[0m\u001b[0m\n",
      "\u001b[0;31mKeyboardInterrupt\u001b[0m: "
     ]
    }
   ],
   "source": [
    "listOfResponse = list()\n",
    "with socket.socket(socket.AF_INET, socket.SOCK_STREAM) as client:\n",
    "    client.connect((Host, Port))\n",
    "    while True:\n",
    "        response = client.recv(1024)\n",
    "        if response != \"\": \n",
    "            #print(response)\n",
    "            listOfResponse.append(response)"
   ]
  },
  {
   "cell_type": "code",
   "execution_count": 10,
   "metadata": {},
   "outputs": [
    {
     "data": {
      "text/plain": [
       "[b'$GPRMC,125917.057,A,3459.79,S,13830.07,E,5.3,14.3,171120,,,*06\\r\\n$IIVHW,14.3,T,14.3,M,5.3,N,9.7,K*5D\\r\\n$IIHDT,14.3,T*14\\r\\n$GPGLL,3459.79,S,13830.07,E,125917.057,A*29\\r\\n$GPGGA,125917.057,3459.79,S,13830.07,E,1,4,1.6,2.0,M,,,,*23\\r\\n$GPGSA,A,3,8,11,15,22,,,,,,,,,1.8,1.6,1.4*05\\r\\n$GPZDA,125917.057,17,11,2020,03,30*5B\\r\\n!AIVDO,1,1,,A,17PaewhP0lar0OgcvHu@SPLR0000,0*1B\\r\\n$WIMWV,271.4,T,4.4,N,A*25\\r\\n$WIMWD,271.4,T,271.4,M,4.4,N,2.3,M*5B\\r\\n$WIMWV,314.7,R,11.8,M,A*19\\r\\n$IIMTW,7.4,C*20\\r\\n$SDDPT,16.6,0.3*65\\r\\n$SDDBT,54.6,f,16.6,M,9.1,F*08\\r\\n$SDDBK,54.6,f,16.6,M,9.1,F*17\\r\\n$SDDBS,54.6,f,16.6,M,9.1,F*0F\\r\\n!AIVDO,2,1,9,A,57Paewh00001<To7;?@plD5<Tl0000000000000U1@:552pds2TnA3QF,0*6D\\r\\n!AIVDO,2,2,9,A,@00000000000002,2*5D\\r\\n$IIRPM,E,1,0,10.5,A*7C\\r\\n$IIRPM,E,2,0,10.5,A*7F\\r\\n',\n",
       " b'$GPRMC,125918.063,A,3459.79,S,13830.07,E,5.3,15.0,171120,,,*0C\\r\\n$IIVHW,15.0,T,15.0,M,5.3,N,9.8,K*52\\r\\n$IIHDT,15.0,T*16\\r\\n$GPGLL,3459.79,S,13830.07,E,125918.063,A*21\\r\\n$GPGGA,125918.063,3459.79,S,13830.07,E,1,4,1.7,2.0,M,,,,*2A\\r\\n$GPGSA,A,3,8,11,15,22,,,,,,,,,2.0,1.7,1.5*0E\\r\\n$GPZDA,125918.063,17,11,2020,03,30*53\\r\\n!AIVDO,1,1,,A,17PaewhP0mar0P1cvI4@UPNT0000,0*11\\r\\n$WIMWV,258.5,T,5.3,N,A*29\\r\\n$WIMWD,258.5,T,258.5,M,5.3,N,2.7,M*59\\r\\n$WIMWV,301.8,R,10.9,M,A*12\\r\\n$IIMTW,7.5,C*21\\r\\n$SDDPT,17.5,0.3*67\\r\\n$SDDBT,57.3,f,17.5,M,9.5,F*08\\r\\n$SDDBK,57.3,f,17.5,M,9.5,F*17\\r\\n$SDDBS,57.3,f,17.5,M,9.5,F*0F\\r\\n!AIVDO,2,1,9,A,57Paewh00001<To7;?@plD5<Tl0000000000000U1@:552pds2TnA3QF,0*6D\\r\\n!AIVDO,2,2,9,A,@00000000000002,2*5D\\r\\n$IIRPM,E,1,0,10.5,A*7C\\r\\n$IIRPM,E,2,0,10.5,A*7F\\r\\n',\n",
       " b'$GPRMC,125919.550,A,3459.78,S,13830.07,E,5.4,14.3,171120,,,*0C\\r\\n$IIVHW,14.3,T,14.3,M,5.4,N,9.9,K*54\\r\\n$IIHDT,14.3,T*14\\r\\n$GPGLL,3459.78,S,13830.07,E,125919.550,A*24\\r\\n$GPGGA,125919.550,3459.78,S,13830.07,E,1,4,1.6,2.0,M,,,,*2E\\r\\n$GPGSA,A,3,8,11,15,22,,,,,,,,,2.1,1.6,1.6*0D\\r\\n$GPZDA,125919.550,17,11,2020,03,30*57\\r\\n!AIVDO,1,1,,A,17PaewhP0mar0PKcvI>hSPLV0000,0*4F\\r\\n$WIMWV,271.4,T,6.4,N,A*27\\r\\n$WIMWD,271.4,T,271.4,M,6.4,N,3.3,M*58\\r\\n$WIMWV,302.4,R,14.3,M,A*13\\r\\n$IIMTW,7.4,C*20\\r\\n$SDDPT,18.3,0.3*6E\\r\\n$SDDBT,60.2,f,18.3,M,10.0,F*39\\r\\n$SDDBK,60.2,f,18.3,M,10.0,F*26\\r\\n$SDDBS,60.2,f,18.3,M,10.0,F*3E\\r\\n!AIVDO,2,1,9,A,57Paewh00001<To7;?@plD5<Tl0000000000000U1@:552pds2TnA3QF,0*6D\\r\\n!AIVDO,2,2,9,A,@00000000000002,2*5D\\r\\n$IIRPM,E,1,0,10.5,A*7C\\r\\n$IIRPM,E,2,0,10.5,A*7F\\r\\n',\n",
       " b'$GPRMC,125920.252,A,3459.78,S,13830.07,E,5.3,15.0,171120,,,*06\\r\\n$IIVHW,15.0,T,15.0,M,5.3,N,9.8,K*52\\r\\n$IIHDT,15.0,T*16\\r\\n$GPGLL,3459.78,S,13830.07,E,125920.252,A*2B\\r\\n$GPGGA,125920.252,3459.78,S,13830.07,E,1,4,1.7,2.0,M,,,,*20\\r\\n$GPGSA,A,3,8,11,15,22,,,,,,,,,2.3,1.7,1.7*0F\\r\\n$GPZDA,125920.252,17,11,2020,03,30*58\\r\\n!AIVDO,1,1,,A,17PaewhP0mar0PWcvICPUPN`0000,0*24\\r\\n$WIMWV,285.0,T,7.6,N,A*2B\\r\\n$WIMWD,285.0,T,285.0,M,7.6,N,3.9,M*51\\r\\n$WIMWV,304.8,R,18.1,M,A*17\\r\\n$IIMTW,7.5,C*21\\r\\n$SDDPT,19.3,0.3*6F\\r\\n$SDDBT,63.2,f,19.3,M,10.5,F*3E\\r\\n$SDDBK,63.2,f,19.3,M,10.5,F*21\\r\\n$SDDBS,63.2,f,19.3,M,10.5,F*39\\r\\n!AIVDO,2,1,9,A,57Paewh00001<To7;?@plD5<Tl0000000000000U1@:552pds2TnA3QF,0*6D\\r\\n!AIVDO,2,2,9,A,@00000000000002,2*5D\\r\\n$IIRPM,E,1,0,10.5,A*7C\\r\\n$IIRPM,E,2,0,10.5,A*7F\\r\\n',\n",
       " b'$GPRMC,125921.445,A,3459.78,S,13830.07,E,5.3,15.8,171120,,,*0F\\r\\n$IIVHW,15.8,T,15.8,M,5.3,N,9.7,K*5D\\r\\n$IIHDT,15.8,T*1E\\r\\n$GPGLL,3459.78,S,13830.07,E,125921.445,A*2A\\r\\n$GPGGA,125921.445,3459.78,S,13830.07,E,1,4,1.6,2.0,M,,,,*20\\r\\n$GPGSA,A,3,8,11,15,22,,,,,,,,,2.4,1.6,1.8*06\\r\\n$GPZDA,125921.445,17,11,2020,03,30*59\\r\\n!AIVDO,1,1,,A,17PaewhP0lar0PwcvIKhW@Nb0000,0*25\\r\\n$WIMWV,299.3,T,6.4,N,A*26\\r\\n$WIMWD,299.3,T,299.3,M,6.4,N,3.3,M*58\\r\\n$WIMWV,317.4,R,17.8,M,A*1F\\r\\n$IIMTW,7.6,C*22\\r\\n$SDDPT,18.3,0.3*6E\\r\\n$SDDBT,60.2,f,18.3,M,10.0,F*39\\r\\n$SDDBK,60.2,f,18.3,M,10.0,F*26\\r\\n$SDDBS,60.2,f,18.3,M,10.0,F*3E\\r\\n!AIVDO,2,1,9,A,57Paewh00001<To7;?@plD5<Tl0000000000000U1@:552pds2TnA3QF,0*6D\\r\\n!AIVDO,2,2,9,A,@00000000000002,2*5D\\r\\n$IIRPM,E,1,0,10.5,A*7C\\r\\n$IIRPM,E,2,0,10.5,A*7F\\r\\n',\n",
       " b'$GPRMC,125922.347,A,3459.78,S,13830.07,E,5.3,15.0,171120,,,*01\\r\\n$IIVHW,15.0,T,15.0,M,5.3,N,9.8,K*52\\r\\n$IIHDT,15.0,T*16\\r\\n$GPGLL,3459.78,S,13830.07,E,125922.347,A*2C\\r\\n$GPGGA,125922.347,3459.78,S,13830.07,E,1,4,1.7,2.0,M,,,,*27\\r\\n$GPGSA,A,3,8,11,15,22,,,,,,,,,2.3,1.7,1.7*0F\\r\\n$GPZDA,125922.347,17,11,2020,03,30*5F\\r\\n!AIVDO,1,1,,A,17PaewhP0mar0Q?cvIR0UPNd0000,0*38\\r\\n$WIMWV,285.0,T,5.3,N,A*2C\\r\\n$WIMWD,285.0,T,285.0,M,5.3,N,2.7,M*59\\r\\n$WIMWV,315.0,R,14.6,M,A*14\\r\\n$IIMTW,7.5,C*21\\r\\n$SDDPT,17.5,0.3*67\\r\\n$SDDBT,57.3,f,17.5,M,9.5,F*08\\r\\n$SDDBK,57.3,f,17.5,M,9.5,F*17\\r\\n$SDDBS,57.3,f,17.5,M,9.5,F*0F\\r\\n!AIVDO,2,1,9,A,57Paewh00001<To7;?@plD5<Tl0000000000000U1@:552pds2TnA3QF,0*6D\\r\\n!AIVDO,2,2,9,A,@00000000000002,2*5D\\r\\n$IIRPM,E,1,0,10.5,A*7C\\r\\n$IIRPM,E,2,0,10.5,A*7F\\r\\n',\n",
       " b'$GPRMC,125923.350,A,3459.77,S,13830.07,E,5.4,14.3,171120,,,*0C\\r\\n$IIVHW,14.3,T,14.3,M,5.4,N,9.9,K*54\\r\\n$IIHDT,14.3,T*14\\r\\n$GPGLL,3459.77,S,13830.07,E,125923.350,A*24\\r\\n$GPGGA,125923.350,3459.77,S,13830.07,E,1,4,1.6,2.0,M,,,,*2E\\r\\n$GPGSA,A,3,8,11,15,22,,,,,,,,,2.4,1.6,1.6*08\\r\\n$GPZDA,125923.350,17,11,2020,03,30*58\\r\\n!AIVDO,1,1,,A,17PaewhP0mar0QQcvIa0SPLf0000,0*63\\r\\n$WIMWV,299.3,T,6.4,N,A*26\\r\\n$WIMWD,299.3,T,299.3,M,6.4,N,3.3,M*58\\r\\n$WIMWV,318.7,R,18.1,M,A*15\\r\\n$IIMTW,7.6,C*22\\r\\n$SDDPT,16.6,0.3*65\\r\\n$SDDBT,54.6,f,16.6,M,9.1,F*08\\r\\n$SDDBK,54.6,f,16.6,M,9.1,F*17\\r\\n$SDDBS,54.6,f,16.6,M,9.1,F*0F\\r\\n!AIVDO,2,1,9,A,57Paewh00001<To7;?@plD5<Tl0000000000000U1@:552pds2TnA3QF,0*6D\\r\\n!AIVDO,2,2,9,A,@00000000000002,2*5D\\r\\n$IIRPM,E,1,0,10.5,A*7C\\r\\n$IIRPM,E,2,0,10.5,A*7F\\r\\n',\n",
       " b'$GPRMC,125924.374,A,3459.77,S,13830.07,E,5.4,15.0,171120,,,*0F\\r\\n$IIVHW,15.0,T,15.0,M,5.4,N,10.0,K*65\\r\\n$IIHDT,15.0,T*16\\r\\n$GPGLL,3459.77,S,13830.07,E,125924.374,A*25\\r\\n$GPGGA,125924.374,3459.77,S,13830.07,E,1,4,1.7,2.0,M,,,,*2E\\r\\n$GPGSA,A,3,8,11,15,22,,,,,,,,,2.6,1.7,1.7*0A\\r\\n$GPZDA,125924.374,17,11,2020,03,30*59\\r\\n!AIVDO,1,1,,A,17PaewhP0nar0QkcvIh@UPNh0000,0*29\\r\\n$WIMWV,285.0,T,7.6,N,A*2B\\r\\n$WIMWD,285.0,T,285.0,M,7.6,N,3.9,M*51\\r\\n$WIMWV,305.3,R,18.2,M,A*1E\\r\\n$IIMTW,7.5,C*21\\r\\n$SDDPT,15.8,0.3*68\\r\\n$SDDBT,52.0,f,15.8,M,8.7,F*02\\r\\n$SDDBK,52.0,f,15.8,M,8.7,F*1D\\r\\n$SDDBS,52.0,f,15.8,M,8.7,F*05\\r\\n!AIVDO,2,1,9,A,57Paewh00001<To7;?@plD5<Tl0000000000000U1@:552pds2TnA3QF,0*6D\\r\\n!AIVDO,2,2,9,A,@00000000000002,2*5D\\r\\n$IIRPM,E,1,0,10.5,A*7C\\r\\n$IIRPM,E,2,0,10.5,A*7F\\r\\n']"
      ]
     },
     "execution_count": 10,
     "metadata": {},
     "output_type": "execute_result"
    }
   ],
   "source": [
    "listOfResponse"
   ]
  },
  {
   "cell_type": "code",
   "execution_count": 14,
   "metadata": {},
   "outputs": [
    {
     "name": "stdout",
     "output_type": "stream",
     "text": [
      "$GPRMC,125917.057,A,3459.79,S,13830.07,E,5.3,14.3,171120,,,*06\r\n",
      "$IIVHW,14.3,T,14.3,M,5.3,N,9.7,K*5D\r\n",
      "$IIHDT,14.3,T*14\r\n",
      "$GPGLL,3459.79,S,13830.07,E,125917.057,A*29\r\n",
      "$GPGGA,125917.057,3459.79,S,13830.07,E,1,4,1.6,2.0,M,,,,*23\r\n",
      "$GPGSA,A,3,8,11,15,22,,,,,,,,,1.8,1.6,1.4*05\r\n",
      "$GPZDA,125917.057,17,11,2020,03,30*5B\r\n",
      "!AIVDO,1,1,,A,17PaewhP0lar0OgcvHu@SPLR0000,0*1B\r\n",
      "$WIMWV,271.4,T,4.4,N,A*25\r\n",
      "$WIMWD,271.4,T,271.4,M,4.4,N,2.3,M*5B\r\n",
      "$WIMWV,314.7,R,11.8,M,A*19\r\n",
      "$IIMTW,7.4,C*20\r\n",
      "$SDDPT,16.6,0.3*65\r\n",
      "$SDDBT,54.6,f,16.6,M,9.1,F*08\r\n",
      "$SDDBK,54.6,f,16.6,M,9.1,F*17\r\n",
      "$SDDBS,54.6,f,16.6,M,9.1,F*0F\r\n",
      "!AIVDO,2,1,9,A,57Paewh00001<To7;?@plD5<Tl0000000000000U1@:552pds2TnA3QF,0*6D\r\n",
      "!AIVDO,2,2,9,A,@00000000000002,2*5D\r\n",
      "$IIRPM,E,1,0,10.5,A*7C\r\n",
      "$IIRPM,E,2,0,10.5,A*7F\r\n",
      "\n",
      "$GPRMC,125918.063,A,3459.79,S,13830.07,E,5.3,15.0,171120,,,*0C\r\n",
      "$IIVHW,15.0,T,15.0,M,5.3,N,9.8,K*52\r\n",
      "$IIHDT,15.0,T*16\r\n",
      "$GPGLL,3459.79,S,13830.07,E,125918.063,A*21\r\n",
      "$GPGGA,125918.063,3459.79,S,13830.07,E,1,4,1.7,2.0,M,,,,*2A\r\n",
      "$GPGSA,A,3,8,11,15,22,,,,,,,,,2.0,1.7,1.5*0E\r\n",
      "$GPZDA,125918.063,17,11,2020,03,30*53\r\n",
      "!AIVDO,1,1,,A,17PaewhP0mar0P1cvI4@UPNT0000,0*11\r\n",
      "$WIMWV,258.5,T,5.3,N,A*29\r\n",
      "$WIMWD,258.5,T,258.5,M,5.3,N,2.7,M*59\r\n",
      "$WIMWV,301.8,R,10.9,M,A*12\r\n",
      "$IIMTW,7.5,C*21\r\n",
      "$SDDPT,17.5,0.3*67\r\n",
      "$SDDBT,57.3,f,17.5,M,9.5,F*08\r\n",
      "$SDDBK,57.3,f,17.5,M,9.5,F*17\r\n",
      "$SDDBS,57.3,f,17.5,M,9.5,F*0F\r\n",
      "!AIVDO,2,1,9,A,57Paewh00001<To7;?@plD5<Tl0000000000000U1@:552pds2TnA3QF,0*6D\r\n",
      "!AIVDO,2,2,9,A,@00000000000002,2*5D\r\n",
      "$IIRPM,E,1,0,10.5,A*7C\r\n",
      "$IIRPM,E,2,0,10.5,A*7F\r\n",
      "\n",
      "$GPRMC,125919.550,A,3459.78,S,13830.07,E,5.4,14.3,171120,,,*0C\r\n",
      "$IIVHW,14.3,T,14.3,M,5.4,N,9.9,K*54\r\n",
      "$IIHDT,14.3,T*14\r\n",
      "$GPGLL,3459.78,S,13830.07,E,125919.550,A*24\r\n",
      "$GPGGA,125919.550,3459.78,S,13830.07,E,1,4,1.6,2.0,M,,,,*2E\r\n",
      "$GPGSA,A,3,8,11,15,22,,,,,,,,,2.1,1.6,1.6*0D\r\n",
      "$GPZDA,125919.550,17,11,2020,03,30*57\r\n",
      "!AIVDO,1,1,,A,17PaewhP0mar0PKcvI>hSPLV0000,0*4F\r\n",
      "$WIMWV,271.4,T,6.4,N,A*27\r\n",
      "$WIMWD,271.4,T,271.4,M,6.4,N,3.3,M*58\r\n",
      "$WIMWV,302.4,R,14.3,M,A*13\r\n",
      "$IIMTW,7.4,C*20\r\n",
      "$SDDPT,18.3,0.3*6E\r\n",
      "$SDDBT,60.2,f,18.3,M,10.0,F*39\r\n",
      "$SDDBK,60.2,f,18.3,M,10.0,F*26\r\n",
      "$SDDBS,60.2,f,18.3,M,10.0,F*3E\r\n",
      "!AIVDO,2,1,9,A,57Paewh00001<To7;?@plD5<Tl0000000000000U1@:552pds2TnA3QF,0*6D\r\n",
      "!AIVDO,2,2,9,A,@00000000000002,2*5D\r\n",
      "$IIRPM,E,1,0,10.5,A*7C\r\n",
      "$IIRPM,E,2,0,10.5,A*7F\r\n",
      "\n",
      "$GPRMC,125920.252,A,3459.78,S,13830.07,E,5.3,15.0,171120,,,*06\r\n",
      "$IIVHW,15.0,T,15.0,M,5.3,N,9.8,K*52\r\n",
      "$IIHDT,15.0,T*16\r\n",
      "$GPGLL,3459.78,S,13830.07,E,125920.252,A*2B\r\n",
      "$GPGGA,125920.252,3459.78,S,13830.07,E,1,4,1.7,2.0,M,,,,*20\r\n",
      "$GPGSA,A,3,8,11,15,22,,,,,,,,,2.3,1.7,1.7*0F\r\n",
      "$GPZDA,125920.252,17,11,2020,03,30*58\r\n",
      "!AIVDO,1,1,,A,17PaewhP0mar0PWcvICPUPN`0000,0*24\r\n",
      "$WIMWV,285.0,T,7.6,N,A*2B\r\n",
      "$WIMWD,285.0,T,285.0,M,7.6,N,3.9,M*51\r\n",
      "$WIMWV,304.8,R,18.1,M,A*17\r\n",
      "$IIMTW,7.5,C*21\r\n",
      "$SDDPT,19.3,0.3*6F\r\n",
      "$SDDBT,63.2,f,19.3,M,10.5,F*3E\r\n",
      "$SDDBK,63.2,f,19.3,M,10.5,F*21\r\n",
      "$SDDBS,63.2,f,19.3,M,10.5,F*39\r\n",
      "!AIVDO,2,1,9,A,57Paewh00001<To7;?@plD5<Tl0000000000000U1@:552pds2TnA3QF,0*6D\r\n",
      "!AIVDO,2,2,9,A,@00000000000002,2*5D\r\n",
      "$IIRPM,E,1,0,10.5,A*7C\r\n",
      "$IIRPM,E,2,0,10.5,A*7F\r\n",
      "\n",
      "$GPRMC,125921.445,A,3459.78,S,13830.07,E,5.3,15.8,171120,,,*0F\r\n",
      "$IIVHW,15.8,T,15.8,M,5.3,N,9.7,K*5D\r\n",
      "$IIHDT,15.8,T*1E\r\n",
      "$GPGLL,3459.78,S,13830.07,E,125921.445,A*2A\r\n",
      "$GPGGA,125921.445,3459.78,S,13830.07,E,1,4,1.6,2.0,M,,,,*20\r\n",
      "$GPGSA,A,3,8,11,15,22,,,,,,,,,2.4,1.6,1.8*06\r\n",
      "$GPZDA,125921.445,17,11,2020,03,30*59\r\n",
      "!AIVDO,1,1,,A,17PaewhP0lar0PwcvIKhW@Nb0000,0*25\r\n",
      "$WIMWV,299.3,T,6.4,N,A*26\r\n",
      "$WIMWD,299.3,T,299.3,M,6.4,N,3.3,M*58\r\n",
      "$WIMWV,317.4,R,17.8,M,A*1F\r\n",
      "$IIMTW,7.6,C*22\r\n",
      "$SDDPT,18.3,0.3*6E\r\n",
      "$SDDBT,60.2,f,18.3,M,10.0,F*39\r\n",
      "$SDDBK,60.2,f,18.3,M,10.0,F*26\r\n",
      "$SDDBS,60.2,f,18.3,M,10.0,F*3E\r\n",
      "!AIVDO,2,1,9,A,57Paewh00001<To7;?@plD5<Tl0000000000000U1@:552pds2TnA3QF,0*6D\r\n",
      "!AIVDO,2,2,9,A,@00000000000002,2*5D\r\n",
      "$IIRPM,E,1,0,10.5,A*7C\r\n",
      "$IIRPM,E,2,0,10.5,A*7F\r\n",
      "\n",
      "$GPRMC,125922.347,A,3459.78,S,13830.07,E,5.3,15.0,171120,,,*01\r\n",
      "$IIVHW,15.0,T,15.0,M,5.3,N,9.8,K*52\r\n",
      "$IIHDT,15.0,T*16\r\n",
      "$GPGLL,3459.78,S,13830.07,E,125922.347,A*2C\r\n",
      "$GPGGA,125922.347,3459.78,S,13830.07,E,1,4,1.7,2.0,M,,,,*27\r\n",
      "$GPGSA,A,3,8,11,15,22,,,,,,,,,2.3,1.7,1.7*0F\r\n",
      "$GPZDA,125922.347,17,11,2020,03,30*5F\r\n",
      "!AIVDO,1,1,,A,17PaewhP0mar0Q?cvIR0UPNd0000,0*38\r\n",
      "$WIMWV,285.0,T,5.3,N,A*2C\r\n",
      "$WIMWD,285.0,T,285.0,M,5.3,N,2.7,M*59\r\n",
      "$WIMWV,315.0,R,14.6,M,A*14\r\n",
      "$IIMTW,7.5,C*21\r\n",
      "$SDDPT,17.5,0.3*67\r\n",
      "$SDDBT,57.3,f,17.5,M,9.5,F*08\r\n",
      "$SDDBK,57.3,f,17.5,M,9.5,F*17\r\n",
      "$SDDBS,57.3,f,17.5,M,9.5,F*0F\r\n",
      "!AIVDO,2,1,9,A,57Paewh00001<To7;?@plD5<Tl0000000000000U1@:552pds2TnA3QF,0*6D\r\n",
      "!AIVDO,2,2,9,A,@00000000000002,2*5D\r\n",
      "$IIRPM,E,1,0,10.5,A*7C\r\n",
      "$IIRPM,E,2,0,10.5,A*7F\r\n",
      "\n",
      "$GPRMC,125923.350,A,3459.77,S,13830.07,E,5.4,14.3,171120,,,*0C\r\n",
      "$IIVHW,14.3,T,14.3,M,5.4,N,9.9,K*54\r\n",
      "$IIHDT,14.3,T*14\r\n",
      "$GPGLL,3459.77,S,13830.07,E,125923.350,A*24\r\n",
      "$GPGGA,125923.350,3459.77,S,13830.07,E,1,4,1.6,2.0,M,,,,*2E\r\n",
      "$GPGSA,A,3,8,11,15,22,,,,,,,,,2.4,1.6,1.6*08\r\n",
      "$GPZDA,125923.350,17,11,2020,03,30*58\r\n",
      "!AIVDO,1,1,,A,17PaewhP0mar0QQcvIa0SPLf0000,0*63\r\n",
      "$WIMWV,299.3,T,6.4,N,A*26\r\n",
      "$WIMWD,299.3,T,299.3,M,6.4,N,3.3,M*58\r\n",
      "$WIMWV,318.7,R,18.1,M,A*15\r\n",
      "$IIMTW,7.6,C*22\r\n",
      "$SDDPT,16.6,0.3*65\r\n",
      "$SDDBT,54.6,f,16.6,M,9.1,F*08\r\n",
      "$SDDBK,54.6,f,16.6,M,9.1,F*17\r\n",
      "$SDDBS,54.6,f,16.6,M,9.1,F*0F\r\n",
      "!AIVDO,2,1,9,A,57Paewh00001<To7;?@plD5<Tl0000000000000U1@:552pds2TnA3QF,0*6D\r\n",
      "!AIVDO,2,2,9,A,@00000000000002,2*5D\r\n",
      "$IIRPM,E,1,0,10.5,A*7C\r\n",
      "$IIRPM,E,2,0,10.5,A*7F\r\n",
      "\n",
      "$GPRMC,125924.374,A,3459.77,S,13830.07,E,5.4,15.0,171120,,,*0F\r\n",
      "$IIVHW,15.0,T,15.0,M,5.4,N,10.0,K*65\r\n",
      "$IIHDT,15.0,T*16\r\n",
      "$GPGLL,3459.77,S,13830.07,E,125924.374,A*25\r\n",
      "$GPGGA,125924.374,3459.77,S,13830.07,E,1,4,1.7,2.0,M,,,,*2E\r\n",
      "$GPGSA,A,3,8,11,15,22,,,,,,,,,2.6,1.7,1.7*0A\r\n",
      "$GPZDA,125924.374,17,11,2020,03,30*59\r\n",
      "!AIVDO,1,1,,A,17PaewhP0nar0QkcvIh@UPNh0000,0*29\r\n",
      "$WIMWV,285.0,T,7.6,N,A*2B\r\n",
      "$WIMWD,285.0,T,285.0,M,7.6,N,3.9,M*51\r\n",
      "$WIMWV,305.3,R,18.2,M,A*1E\r\n",
      "$IIMTW,7.5,C*21\r\n",
      "$SDDPT,15.8,0.3*68\r\n",
      "$SDDBT,52.0,f,15.8,M,8.7,F*02\r\n",
      "$SDDBK,52.0,f,15.8,M,8.7,F*1D\r\n",
      "$SDDBS,52.0,f,15.8,M,8.7,F*05\r\n",
      "!AIVDO,2,1,9,A,57Paewh00001<To7;?@plD5<Tl0000000000000U1@:552pds2TnA3QF,0*6D\r\n",
      "!AIVDO,2,2,9,A,@00000000000002,2*5D\r\n",
      "$IIRPM,E,1,0,10.5,A*7C\r\n",
      "$IIRPM,E,2,0,10.5,A*7F\r\n",
      "\n"
     ]
    }
   ],
   "source": [
    "import ais\n",
    "\n",
    "chunkedlist = list()\n",
    "#Chunk of data for each transmission\n",
    "for i in range(0,len(listOfResponse)):\n",
    "    x = listOfResponse[i].decode('UTF-8')\n",
    "    print(x)\n",
    "    chunkedlist.append(x)\n",
    "    #print(x) ## uncomment this to show each chunk"
   ]
  },
  {
   "cell_type": "code",
   "execution_count": 13,
   "metadata": {},
   "outputs": [
    {
     "data": {
      "text/plain": [
       "'$GPRMC,125917.057,A,3459.79,S,13830.07,E,5.3,14.3,171120,,,*06\\r\\n$IIVHW,14.3,T,14.3,M,5.3,N,9.7,K*5D\\r\\n$IIHDT,14.3,T*14\\r\\n$GPGLL,3459.79,S,13830.07,E,125917.057,A*29\\r\\n$GPGGA,125917.057,3459.79,S,13830.07,E,1,4,1.6,2.0,M,,,,*23\\r\\n$GPGSA,A,3,8,11,15,22,,,,,,,,,1.8,1.6,1.4*05\\r\\n$GPZDA,125917.057,17,11,2020,03,30*5B\\r\\n!AIVDO,1,1,,A,17PaewhP0lar0OgcvHu@SPLR0000,0*1B\\r\\n$WIMWV,271.4,T,4.4,N,A*25\\r\\n$WIMWD,271.4,T,271.4,M,4.4,N,2.3,M*5B\\r\\n$WIMWV,314.7,R,11.8,M,A*19\\r\\n$IIMTW,7.4,C*20\\r\\n$SDDPT,16.6,0.3*65\\r\\n$SDDBT,54.6,f,16.6,M,9.1,F*08\\r\\n$SDDBK,54.6,f,16.6,M,9.1,F*17\\r\\n$SDDBS,54.6,f,16.6,M,9.1,F*0F\\r\\n!AIVDO,2,1,9,A,57Paewh00001<To7;?@plD5<Tl0000000000000U1@:552pds2TnA3QF,0*6D\\r\\n!AIVDO,2,2,9,A,@00000000000002,2*5D\\r\\n$IIRPM,E,1,0,10.5,A*7C\\r\\n$IIRPM,E,2,0,10.5,A*7F\\r\\n'"
      ]
     },
     "execution_count": 13,
     "metadata": {},
     "output_type": "execute_result"
    }
   ],
   "source": [
    "chunkedlist[0]"
   ]
  },
  {
   "cell_type": "code",
   "execution_count": 56,
   "metadata": {},
   "outputs": [
    {
     "name": "stdout",
     "output_type": "stream",
     "text": [
      "['$GPRMC,125917.057,A,3459.79,S,13830.07,E,5.3,14.3,171120,,,*06', '$IIVHW,14.3,T,14.3,M,5.3,N,9.7,K*5D', '$IIHDT,14.3,T*14', '$GPGLL,3459.79,S,13830.07,E,125917.057,A*29', '$GPGGA,125917.057,3459.79,S,13830.07,E,1,4,1.6,2.0,M,,,,*23', '$GPGSA,A,3,8,11,15,22,,,,,,,,,1.8,1.6,1.4*05', '$GPZDA,125917.057,17,11,2020,03,30*5B', '!AIVDO,1,1,,A,17PaewhP0lar0OgcvHu@SPLR0000,0*1B', '$WIMWV,271.4,T,4.4,N,A*25', '$WIMWD,271.4,T,271.4,M,4.4,N,2.3,M*5B', '$WIMWV,314.7,R,11.8,M,A*19', '$IIMTW,7.4,C*20', '$SDDPT,16.6,0.3*65', '$SDDBT,54.6,f,16.6,M,9.1,F*08', '$SDDBK,54.6,f,16.6,M,9.1,F*17', '$SDDBS,54.6,f,16.6,M,9.1,F*0F', '!AIVDO,2,1,9,A,57Paewh00001<To7;?@plD5<Tl0000000000000U1@:552pds2TnA3QF,0*6D', '!AIVDO,2,2,9,A,@00000000000002,2*5D', '$IIRPM,E,1,0,10.5,A*7C', '$IIRPM,E,2,0,10.5,A*7F']\n",
      "['$GPRMC,125918.063,A,3459.79,S,13830.07,E,5.3,15.0,171120,,,*0C', '$IIVHW,15.0,T,15.0,M,5.3,N,9.8,K*52', '$IIHDT,15.0,T*16', '$GPGLL,3459.79,S,13830.07,E,125918.063,A*21', '$GPGGA,125918.063,3459.79,S,13830.07,E,1,4,1.7,2.0,M,,,,*2A', '$GPGSA,A,3,8,11,15,22,,,,,,,,,2.0,1.7,1.5*0E', '$GPZDA,125918.063,17,11,2020,03,30*53', '!AIVDO,1,1,,A,17PaewhP0mar0P1cvI4@UPNT0000,0*11', '$WIMWV,258.5,T,5.3,N,A*29', '$WIMWD,258.5,T,258.5,M,5.3,N,2.7,M*59', '$WIMWV,301.8,R,10.9,M,A*12', '$IIMTW,7.5,C*21', '$SDDPT,17.5,0.3*67', '$SDDBT,57.3,f,17.5,M,9.5,F*08', '$SDDBK,57.3,f,17.5,M,9.5,F*17', '$SDDBS,57.3,f,17.5,M,9.5,F*0F', '!AIVDO,2,1,9,A,57Paewh00001<To7;?@plD5<Tl0000000000000U1@:552pds2TnA3QF,0*6D', '!AIVDO,2,2,9,A,@00000000000002,2*5D', '$IIRPM,E,1,0,10.5,A*7C', '$IIRPM,E,2,0,10.5,A*7F']\n",
      "['$GPRMC,125919.550,A,3459.78,S,13830.07,E,5.4,14.3,171120,,,*0C', '$IIVHW,14.3,T,14.3,M,5.4,N,9.9,K*54', '$IIHDT,14.3,T*14', '$GPGLL,3459.78,S,13830.07,E,125919.550,A*24', '$GPGGA,125919.550,3459.78,S,13830.07,E,1,4,1.6,2.0,M,,,,*2E', '$GPGSA,A,3,8,11,15,22,,,,,,,,,2.1,1.6,1.6*0D', '$GPZDA,125919.550,17,11,2020,03,30*57', '!AIVDO,1,1,,A,17PaewhP0mar0PKcvI>hSPLV0000,0*4F', '$WIMWV,271.4,T,6.4,N,A*27', '$WIMWD,271.4,T,271.4,M,6.4,N,3.3,M*58', '$WIMWV,302.4,R,14.3,M,A*13', '$IIMTW,7.4,C*20', '$SDDPT,18.3,0.3*6E', '$SDDBT,60.2,f,18.3,M,10.0,F*39', '$SDDBK,60.2,f,18.3,M,10.0,F*26', '$SDDBS,60.2,f,18.3,M,10.0,F*3E', '!AIVDO,2,1,9,A,57Paewh00001<To7;?@plD5<Tl0000000000000U1@:552pds2TnA3QF,0*6D', '!AIVDO,2,2,9,A,@00000000000002,2*5D', '$IIRPM,E,1,0,10.5,A*7C', '$IIRPM,E,2,0,10.5,A*7F']\n",
      "['$GPRMC,125920.252,A,3459.78,S,13830.07,E,5.3,15.0,171120,,,*06', '$IIVHW,15.0,T,15.0,M,5.3,N,9.8,K*52', '$IIHDT,15.0,T*16', '$GPGLL,3459.78,S,13830.07,E,125920.252,A*2B', '$GPGGA,125920.252,3459.78,S,13830.07,E,1,4,1.7,2.0,M,,,,*20', '$GPGSA,A,3,8,11,15,22,,,,,,,,,2.3,1.7,1.7*0F', '$GPZDA,125920.252,17,11,2020,03,30*58', '!AIVDO,1,1,,A,17PaewhP0mar0PWcvICPUPN`0000,0*24', '$WIMWV,285.0,T,7.6,N,A*2B', '$WIMWD,285.0,T,285.0,M,7.6,N,3.9,M*51', '$WIMWV,304.8,R,18.1,M,A*17', '$IIMTW,7.5,C*21', '$SDDPT,19.3,0.3*6F', '$SDDBT,63.2,f,19.3,M,10.5,F*3E', '$SDDBK,63.2,f,19.3,M,10.5,F*21', '$SDDBS,63.2,f,19.3,M,10.5,F*39', '!AIVDO,2,1,9,A,57Paewh00001<To7;?@plD5<Tl0000000000000U1@:552pds2TnA3QF,0*6D', '!AIVDO,2,2,9,A,@00000000000002,2*5D', '$IIRPM,E,1,0,10.5,A*7C', '$IIRPM,E,2,0,10.5,A*7F']\n",
      "['$GPRMC,125921.445,A,3459.78,S,13830.07,E,5.3,15.8,171120,,,*0F', '$IIVHW,15.8,T,15.8,M,5.3,N,9.7,K*5D', '$IIHDT,15.8,T*1E', '$GPGLL,3459.78,S,13830.07,E,125921.445,A*2A', '$GPGGA,125921.445,3459.78,S,13830.07,E,1,4,1.6,2.0,M,,,,*20', '$GPGSA,A,3,8,11,15,22,,,,,,,,,2.4,1.6,1.8*06', '$GPZDA,125921.445,17,11,2020,03,30*59', '!AIVDO,1,1,,A,17PaewhP0lar0PwcvIKhW@Nb0000,0*25', '$WIMWV,299.3,T,6.4,N,A*26', '$WIMWD,299.3,T,299.3,M,6.4,N,3.3,M*58', '$WIMWV,317.4,R,17.8,M,A*1F', '$IIMTW,7.6,C*22', '$SDDPT,18.3,0.3*6E', '$SDDBT,60.2,f,18.3,M,10.0,F*39', '$SDDBK,60.2,f,18.3,M,10.0,F*26', '$SDDBS,60.2,f,18.3,M,10.0,F*3E', '!AIVDO,2,1,9,A,57Paewh00001<To7;?@plD5<Tl0000000000000U1@:552pds2TnA3QF,0*6D', '!AIVDO,2,2,9,A,@00000000000002,2*5D', '$IIRPM,E,1,0,10.5,A*7C', '$IIRPM,E,2,0,10.5,A*7F']\n",
      "['$GPRMC,125922.347,A,3459.78,S,13830.07,E,5.3,15.0,171120,,,*01', '$IIVHW,15.0,T,15.0,M,5.3,N,9.8,K*52', '$IIHDT,15.0,T*16', '$GPGLL,3459.78,S,13830.07,E,125922.347,A*2C', '$GPGGA,125922.347,3459.78,S,13830.07,E,1,4,1.7,2.0,M,,,,*27', '$GPGSA,A,3,8,11,15,22,,,,,,,,,2.3,1.7,1.7*0F', '$GPZDA,125922.347,17,11,2020,03,30*5F', '!AIVDO,1,1,,A,17PaewhP0mar0Q?cvIR0UPNd0000,0*38', '$WIMWV,285.0,T,5.3,N,A*2C', '$WIMWD,285.0,T,285.0,M,5.3,N,2.7,M*59', '$WIMWV,315.0,R,14.6,M,A*14', '$IIMTW,7.5,C*21', '$SDDPT,17.5,0.3*67', '$SDDBT,57.3,f,17.5,M,9.5,F*08', '$SDDBK,57.3,f,17.5,M,9.5,F*17', '$SDDBS,57.3,f,17.5,M,9.5,F*0F', '!AIVDO,2,1,9,A,57Paewh00001<To7;?@plD5<Tl0000000000000U1@:552pds2TnA3QF,0*6D', '!AIVDO,2,2,9,A,@00000000000002,2*5D', '$IIRPM,E,1,0,10.5,A*7C', '$IIRPM,E,2,0,10.5,A*7F']\n",
      "['$GPRMC,125923.350,A,3459.77,S,13830.07,E,5.4,14.3,171120,,,*0C', '$IIVHW,14.3,T,14.3,M,5.4,N,9.9,K*54', '$IIHDT,14.3,T*14', '$GPGLL,3459.77,S,13830.07,E,125923.350,A*24', '$GPGGA,125923.350,3459.77,S,13830.07,E,1,4,1.6,2.0,M,,,,*2E', '$GPGSA,A,3,8,11,15,22,,,,,,,,,2.4,1.6,1.6*08', '$GPZDA,125923.350,17,11,2020,03,30*58', '!AIVDO,1,1,,A,17PaewhP0mar0QQcvIa0SPLf0000,0*63', '$WIMWV,299.3,T,6.4,N,A*26', '$WIMWD,299.3,T,299.3,M,6.4,N,3.3,M*58', '$WIMWV,318.7,R,18.1,M,A*15', '$IIMTW,7.6,C*22', '$SDDPT,16.6,0.3*65', '$SDDBT,54.6,f,16.6,M,9.1,F*08', '$SDDBK,54.6,f,16.6,M,9.1,F*17', '$SDDBS,54.6,f,16.6,M,9.1,F*0F', '!AIVDO,2,1,9,A,57Paewh00001<To7;?@plD5<Tl0000000000000U1@:552pds2TnA3QF,0*6D', '!AIVDO,2,2,9,A,@00000000000002,2*5D', '$IIRPM,E,1,0,10.5,A*7C', '$IIRPM,E,2,0,10.5,A*7F']\n",
      "['$GPRMC,125924.374,A,3459.77,S,13830.07,E,5.4,15.0,171120,,,*0F', '$IIVHW,15.0,T,15.0,M,5.4,N,10.0,K*65', '$IIHDT,15.0,T*16', '$GPGLL,3459.77,S,13830.07,E,125924.374,A*25', '$GPGGA,125924.374,3459.77,S,13830.07,E,1,4,1.7,2.0,M,,,,*2E', '$GPGSA,A,3,8,11,15,22,,,,,,,,,2.6,1.7,1.7*0A', '$GPZDA,125924.374,17,11,2020,03,30*59', '!AIVDO,1,1,,A,17PaewhP0nar0QkcvIh@UPNh0000,0*29', '$WIMWV,285.0,T,7.6,N,A*2B', '$WIMWD,285.0,T,285.0,M,7.6,N,3.9,M*51', '$WIMWV,305.3,R,18.2,M,A*1E', '$IIMTW,7.5,C*21', '$SDDPT,15.8,0.3*68', '$SDDBT,52.0,f,15.8,M,8.7,F*02', '$SDDBK,52.0,f,15.8,M,8.7,F*1D', '$SDDBS,52.0,f,15.8,M,8.7,F*05', '!AIVDO,2,1,9,A,57Paewh00001<To7;?@plD5<Tl0000000000000U1@:552pds2TnA3QF,0*6D', '!AIVDO,2,2,9,A,@00000000000002,2*5D', '$IIRPM,E,1,0,10.5,A*7C', '$IIRPM,E,2,0,10.5,A*7F']\n"
     ]
    }
   ],
   "source": [
    "#Eliminate \\n\\r\n",
    "finalSplitted = list()\n",
    "for x in chunkedlist:\n",
    "    splitted = x.splitlines()\n",
    "    print(splitted)\n",
    "    finalSplitted.append(splitted)"
   ]
  },
  {
   "cell_type": "code",
   "execution_count": 57,
   "metadata": {},
   "outputs": [
    {
     "data": {
      "text/plain": [
       "'$IIVHW,15.0,T,15.0,M,5.3,N,9.8,K*52'"
      ]
     },
     "execution_count": 57,
     "metadata": {},
     "output_type": "execute_result"
    }
   ],
   "source": [
    "#Each chunk has AIS message in these three positoons: 7, 16, 17\n",
    "finalSplitted[1][1]\n",
    "# tokenizedlist = list()\n"
   ]
  },
  {
   "cell_type": "code",
   "execution_count": 86,
   "metadata": {},
   "outputs": [],
   "source": [
    "tokenizedlist = list()\n",
    "for i in range(0, len(finalSplitted)):\n",
    "    #token = finalSplitted[i]\n",
    "    finalSplitted[i] = [x for x in finalSplitted[i] if x[0]!='$']"
   ]
  },
  {
   "cell_type": "code",
   "execution_count": 87,
   "metadata": {},
   "outputs": [
    {
     "data": {
      "text/plain": [
       "[['!AIVDO,1,1,,A,17PaewhP0lar0OgcvHu@SPLR0000,0*1B',\n",
       "  '!AIVDO,2,1,9,A,57Paewh00001<To7;?@plD5<Tl0000000000000U1@:552pds2TnA3QF,0*6D',\n",
       "  '!AIVDO,2,2,9,A,@00000000000002,2*5D'],\n",
       " ['!AIVDO,1,1,,A,17PaewhP0mar0P1cvI4@UPNT0000,0*11',\n",
       "  '!AIVDO,2,1,9,A,57Paewh00001<To7;?@plD5<Tl0000000000000U1@:552pds2TnA3QF,0*6D',\n",
       "  '!AIVDO,2,2,9,A,@00000000000002,2*5D'],\n",
       " ['!AIVDO,1,1,,A,17PaewhP0mar0PKcvI>hSPLV0000,0*4F',\n",
       "  '!AIVDO,2,1,9,A,57Paewh00001<To7;?@plD5<Tl0000000000000U1@:552pds2TnA3QF,0*6D',\n",
       "  '!AIVDO,2,2,9,A,@00000000000002,2*5D'],\n",
       " ['!AIVDO,1,1,,A,17PaewhP0mar0PWcvICPUPN`0000,0*24',\n",
       "  '!AIVDO,2,1,9,A,57Paewh00001<To7;?@plD5<Tl0000000000000U1@:552pds2TnA3QF,0*6D',\n",
       "  '!AIVDO,2,2,9,A,@00000000000002,2*5D'],\n",
       " ['!AIVDO,1,1,,A,17PaewhP0lar0PwcvIKhW@Nb0000,0*25',\n",
       "  '!AIVDO,2,1,9,A,57Paewh00001<To7;?@plD5<Tl0000000000000U1@:552pds2TnA3QF,0*6D',\n",
       "  '!AIVDO,2,2,9,A,@00000000000002,2*5D'],\n",
       " ['!AIVDO,1,1,,A,17PaewhP0mar0Q?cvIR0UPNd0000,0*38',\n",
       "  '!AIVDO,2,1,9,A,57Paewh00001<To7;?@plD5<Tl0000000000000U1@:552pds2TnA3QF,0*6D',\n",
       "  '!AIVDO,2,2,9,A,@00000000000002,2*5D'],\n",
       " ['!AIVDO,1,1,,A,17PaewhP0mar0QQcvIa0SPLf0000,0*63',\n",
       "  '!AIVDO,2,1,9,A,57Paewh00001<To7;?@plD5<Tl0000000000000U1@:552pds2TnA3QF,0*6D',\n",
       "  '!AIVDO,2,2,9,A,@00000000000002,2*5D'],\n",
       " ['!AIVDO,1,1,,A,17PaewhP0nar0QkcvIh@UPNh0000,0*29',\n",
       "  '!AIVDO,2,1,9,A,57Paewh00001<To7;?@plD5<Tl0000000000000U1@:552pds2TnA3QF,0*6D',\n",
       "  '!AIVDO,2,2,9,A,@00000000000002,2*5D']]"
      ]
     },
     "execution_count": 87,
     "metadata": {},
     "output_type": "execute_result"
    }
   ],
   "source": [
    "finalSplitted"
   ]
  },
  {
   "cell_type": "code",
   "execution_count": 90,
   "metadata": {},
   "outputs": [
    {
     "name": "stdout",
     "output_type": "stream",
     "text": [
      "{'id': 1, 'repeat_indicator': 0, 'mmsi': 503999999, 'nav_status': 0, 'rot_over_range': True, 'rot': -731.386474609375, 'sog': 5.199999809265137, 'position_accuracy': 1, 'x': 138.501105, 'y': -34.996498333333335, 'cog': 14.199999809265137, 'true_heading': 14, 'timestamp': 17, 'special_manoeuvre': 0, 'spare': 0, 'raim': False, 'sync_state': 0, 'slot_timeout': 0, 'slot_offset': 0}\n"
     ]
    }
   ],
   "source": [
    "token = finalSplitted[0][0]\n",
    "tokens = token.split(',')\n",
    "decoded = ais.decode(tokens[5],0)\n",
    "print(decoded)"
   ]
  },
  {
   "cell_type": "code",
   "execution_count": null,
   "metadata": {
    "collapsed": true
   },
   "outputs": [],
   "source": [
    "\n"
   ]
  }
 ],
 "metadata": {
  "kernelspec": {
   "display_name": "Python 3",
   "language": "python",
   "name": "python3"
  },
  "language_info": {
   "codemirror_mode": {
    "name": "ipython",
    "version": 3
   },
   "file_extension": ".py",
   "mimetype": "text/x-python",
   "name": "python",
   "nbconvert_exporter": "python",
   "pygments_lexer": "ipython3",
   "version": "3.6.4"
  }
 },
 "nbformat": 4,
 "nbformat_minor": 2
}
