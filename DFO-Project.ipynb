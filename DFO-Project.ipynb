{
 "cells": [
  {
   "cell_type": "code",
   "execution_count": 1,
   "metadata": {
    "collapsed": true
   },
   "outputs": [],
   "source": [
    "import socket\n",
    "import sys"
   ]
  },
  {
   "cell_type": "code",
   "execution_count": 2,
   "metadata": {
    "collapsed": true
   },
   "outputs": [],
   "source": [
    "Host = '127.0.0.1'\n",
    "Port = 3002"
   ]
  },
  {
   "cell_type": "code",
   "execution_count": 3,
   "metadata": {},
   "outputs": [
    {
     "name": "stdout",
     "output_type": "stream",
     "text": [
      "b'$GPRMC,083429.151,A,3459.99,S,13830.01,E,4.9,15.8,171120,,,*05\\r\\n$IIVHW,15.8,T,15.8,M,4.9,N,9.0,K*51\\r\\n$IIHDT,15.8,T*1E\\r\\n$GPGLL,3459.99,S,13830.01,E,083429.151,A*2B\\r\\n$GPGGA,083429.151,3459.99,S,13830.01,E,1,4,1.4,2.0,M,,,,*23\\r\\n$GPGSA,A,3,8,11,15,22,,,,,,,,,1.4,1.4,1.4*0B\\r\\n$GPZDA,083429.151,17,11,2020,03,30*51\\r\\n!AIVDO,1,1,,A,17PaewhP0har0<UcvAD0W@Nr0000,0*20\\r\\n$WIMWV,299.3,T,13.2,N,A*14\\r\\n$WIMWD,299.3,T,299.3,M,13.2,N,6.8,M*64\\r\\n$WIMWV,301.7,R,29.3,M,A*1D\\r\\n$IIMTW,7.3,C*27\\r\\n$SDDPT,10.2,0.3*67\\r\\n$SDDBT,33.5,f,10.2,M,5.6,F*03\\r\\n$SDDBK,33.5,f,10.2,M,5.6,F*1C\\r\\n$SDDBS,33.5,f,10.2,M,5.6,F*04\\r\\n!AIVDO,2,1,9,A,57Paewh00001<To7;?@plD5<Tl0000000000000U1@:552p`R2TnA3QF,0*48\\r\\n!AIVDO,2,2,9,A,@00000000000002,2*5D\\r\\n$IIRPM,E,1,0,10.5,A*7C\\r\\n$IIRPM,E,2,0,10.5,A*7F\\r\\n'\n",
      "b'$GPRMC,083430.129,A,3459.98,S,13830.01,E,4.9,16.5,171120,,,*0D\\r\\n$IIVHW,16.5,T,16.5,M,4.9,N,9.1,K*50\\r\\n$IIHDT,16.5,T*10\\r\\n$GPGLL,3459.98,S,13830.01,E,083430.129,A*2D\\r\\n$GPGGA,083430.129,3459.98,S,13830.01,E,1,4,1.3,2.0,M,,,,*22\\r\\n$GPGSA,A,3,8,11,15,22,,,,,,,,,1.5,1.3,1.3*0A\\r\\n$GPZDA,083430.129,17,11,2020,03,30*56\\r\\n!AIVDO,1,1,,A,17PaewhP0iar0<ocvAJ@a@Pt0000,0*4B\\r\\n$WIMWV,285.0,T,11.0,N,A*1A\\r\\n$WIMWD,285.0,T,285.0,M,11.0,N,5.7,M*68\\r\\n$WIMWV,292.7,R,23.2,M,A*1D\\r\\n$IIMTW,7.4,C*20\\r\\n$SDDPT,9.7,0.3*5A\\r\\n$SDDBT,31.9,f,9.7,M,5.3,F*35\\r\\n$SDDBK,31.9,f,9.7,M,5.3,F*2A\\r\\n$SDDBS,31.9,f,9.7,M,5.3,F*32\\r\\n!AIVDO,2,1,9,A,57Paewh00001<To7;?@plD5<Tl0000000000000U1@:552p`R2TnA3QF,0*48\\r\\n!AIVDO,2,2,9,A,@00000000000002,2*5D\\r\\n$IIRPM,E,1,0,10.5,A*7C\\r\\n$IIRPM,E,2,0,10.5,A*7F\\r\\n'\n",
      "b'$GPRMC,083431.212,A,3459.98,S,13830.01,E,5.0,15.8,171120,,,*01\\r\\n$IIVHW,15.8,T,15.8,M,5.0,N,9.2,K*5B\\r\\n$IIHDT,15.8,T*1E\\r\\n$GPGLL,3459.98,S,13830.01,E,083431.212,A*27\\r\\n$GPGGA,083431.212,3459.98,S,13830.01,E,1,4,1.2,2.0,M,,,,*29\\r\\n$GPGSA,A,3,8,11,15,22,,,,,,,,,1.6,1.2,1.2*09\\r\\n$GPZDA,083431.212,17,11,2020,03,30*5C\\r\\n!AIVDO,1,1,,A,17PaewhP0iar0=;cvAQ@W@Nv0000,0*2F\\r\\n$WIMWV,271.4,T,9.2,N,A*2E\\r\\n$WIMWD,271.4,T,271.4,M,9.2,N,4.7,M*52\\r\\n$WIMWV,286.8,R,18.0,M,A*1D\\r\\n$IIMTW,7.4,C*20\\r\\n$SDDPT,10.2,0.3*67\\r\\n$SDDBT,33.5,f,10.2,M,5.6,F*03\\r\\n$SDDBK,33.5,f,10.2,M,5.6,F*1C\\r\\n$SDDBS,33.5,f,10.2,M,5.6,F*04\\r\\n!AIVDO,2,1,9,A,57Paewh00001<To7;?@plD5<Tl0000000000000U1@:552p`R2TnA3QF,0*48\\r\\n!AIVDO,2,2,9,A,@00000000000002,2*5D\\r\\n$IIRPM,E,1,0,10.5,A*7C\\r\\n$IIRPM,E,2,0,10.5,A*7F\\r\\n'\n",
      "b'$GPRMC,083432.462,A,3459.98,S,13830.01,E,4.9,16.5,171120,,,*05\\r\\n$IIVHW,16.5,T,16.5,M,4.9,N,9.1,K*50\\r\\n$IIHDT,16.5,T*10\\r\\n$GPGLL,3459.98,S,13830.01,E,083432.462,A*25\\r\\n$GPGGA,083432.462,3459.98,S,13830.01,E,1,4,1.3,2.0,M,,,,*2A\\r\\n$GPGSA,A,3,8,11,15,22,,,,,,,,,1.7,1.3,1.3*08\\r\\n$GPZDA,083432.462,17,11,2020,03,30*5E\\r\\n!AIVDO,1,1,,A,17PaewhP0iar0=QcvAa@a@Q00000,0*1A\\r\\n$WIMWV,258.5,T,7.6,N,A*2E\\r\\n$WIMWD,258.5,T,258.5,M,7.6,N,3.9,M*51\\r\\n$WIMWV,281.0,R,13.4,M,A*1D\\r\\n$IIMTW,7.4,C*20\\r\\n$SDDPT,10.7,0.3*62\\r\\n$SDDBT,35.2,f,10.7,M,5.9,F*08\\r\\n$SDDBK,35.2,f,10.7,M,5.9,F*17\\r\\n$SDDBS,35.2,f,10.7,M,5.9,F*0F\\r\\n!AIVDO,2,1,9,A,57Paewh00001<To7;?@plD5<Tl0000000000000U1@:552p`R2TnA3QF,0*48\\r\\n!AIVDO,2,2,9,A,@00000000000002,2*5D\\r\\n$IIRPM,E,1,0,10.5,A*7C\\r\\n$IIRPM,E,2,0,10.5,A*7F\\r\\n'\n",
      "b'$GPRMC,083433.254,A,3459.98,S,13830.01,E,4.9,15.8,171120,,,*09\\r\\n$IIVHW,15.8,T,15.8,M,4.9,N,9.0,K*51\\r\\n$IIHDT,15.8,T*1E\\r\\n$GPGLL,3459.98,S,13830.01,E,083433.254,A*27\\r\\n$GPGGA,083433.254,3459.98,S,13830.01,E,1,4,1.4,2.0,M,,,,*2F\\r\\n$GPGSA,A,3,8,11,15,22,,,,,,,,,1.6,1.4,1.2*0F\\r\\n$GPZDA,083433.254,17,11,2020,03,30*5C\\r\\n!AIVDO,1,1,,A,17PaewhP0har0=gcvAf@W@O20000,0*00\\r\\n$WIMWV,271.4,T,9.2,N,A*2E\\r\\n$WIMWD,271.4,T,271.4,M,9.2,N,4.7,M*52\\r\\n$WIMWV,286.2,R,18.0,M,A*17\\r\\n$IIMTW,7.3,C*27\\r\\n$SDDPT,11.3,0.3*67\\r\\n$SDDBT,36.9,f,11.3,M,6.2,F*0D\\r\\n$SDDBK,36.9,f,11.3,M,6.2,F*12\\r\\n$SDDBS,36.9,f,11.3,M,6.2,F*0A\\r\\n!AIVDO,2,1,9,A,57Paewh00001<To7;?@plD5<Tl0000000000000U1@:552p`R2TnA3QF,0*48\\r\\n!AIVDO,2,2,9,A,@00000000000002,2*5D\\r\\n$IIRPM,E,1,0,10.5,A*7C\\r\\n$IIRPM,E,2,0,10.5,A*7F\\r\\n'\n",
      "b'$GPRMC,083434.419,A,3459.97,S,13830.01,E,4.8,16.5,171120,,,*01\\r\\n$IIVHW,16.5,T,16.5,M,4.8,N,8.9,K*58\\r\\n$IIHDT,16.5,T*10\\r\\n$GPGLL,3459.97,S,13830.01,E,083434.419,A*20\\r\\n$GPGGA,083434.419,3459.97,S,13830.01,E,1,4,1.5,2.0,M,,,,*29\\r\\n$GPGSA,A,3,8,11,15,22,,,,,,,,,1.7,1.5,1.1*0C\\r\\n$GPZDA,083434.419,17,11,2020,03,30*54\\r\\n!AIVDO,1,1,,A,17PaewhP0har0>3cvAmPa@Q40000,0*62\\r\\n$WIMWV,258.5,T,11.0,N,A*1F\\r\\n$WIMWD,258.5,T,258.5,M,11.0,N,5.7,M*68\\r\\n$WIMWV,267.8,R,18.9,M,A*1B\\r\\n$IIMTW,7.2,C*26\\r\\n$SDDPT,11.8,0.3*6C\\r\\n$SDDBT,38.8,f,11.8,M,6.5,F*0E\\r\\n$SDDBK,38.8,f,11.8,M,6.5,F*11\\r\\n$SDDBS,38.8,f,11.8,M,6.5,F*09\\r\\n!AIVDO,2,1,9,A,57Paewh00001<To7;?@plD5<Tl0000000000000U1@:552p`R2TnA3QF,0*48\\r\\n!AIVDO,2,2,9,A,@00000000000002,2*5D\\r\\n$IIRPM,E,1,0,10.5,A*7C\\r\\n$IIRPM,E,2,0,10.5,A*7F\\r\\n'\n",
      "b'$GPRMC,083435.342,A,3459.97,S,13830.01,E,4.8,17.4,171120,,,*09\\r\\n$IIVHW,17.4,T,17.4,M,4.8,N,8.8,K*59\\r\\n$IIHDT,17.4,T*10\\r\\n$GPGLL,3459.97,S,13830.01,E,083435.342,A*28\\r\\n$GPGGA,083435.342,3459.97,S,13830.01,E,1,4,1.6,2.0,M,,,,*22\\r\\n$GPGSA,A,3,8,11,15,22,,,,,,,,,1.6,1.6,1.2*0D\\r\\n$GPZDA,083435.342,17,11,2020,03,30*5C\\r\\n!AIVDO,1,1,,A,17PaewhP0gar0>EcvAs0c@S60000,0*67\\r\\n$WIMWV,271.4,T,9.2,N,A*2E\\r\\n$WIMWD,271.4,T,271.4,M,9.2,N,4.7,M*52\\r\\n$WIMWV,284.3,R,17.7,M,A*1C\\r\\n$IIMTW,7.1,C*25\\r\\n$SDDPT,12.4,0.3*63\\r\\n$SDDBT,40.7,f,12.4,M,6.8,F*0C\\r\\n$SDDBK,40.7,f,12.4,M,6.8,F*13\\r\\n$SDDBS,40.7,f,12.4,M,6.8,F*0B\\r\\n!AIVDO,2,1,9,A,57Paewh00001<To7;?@plD5<Tl0000000000000U1@:552p`R2TnA3QF,0*48\\r\\n!AIVDO,2,2,9,A,@00000000000002,2*5D\\r\\n$IIRPM,E,1,0,10.5,A*7C\\r\\n$IIRPM,E,2,0,10.5,A*7F\\r\\n'\n",
      "b'$GPRMC,083436.059,A,3459.97,S,13830.01,E,4.7,16.5,171120,,,*0C\\r\\n$IIVHW,16.5,T,16.5,M,4.7,N,8.7,K*59\\r\\n$IIHDT,16.5,T*10\\r\\n$GPGLL,3459.97,S,13830.01,E,083436.059,A*22\\r\\n$GPGGA,083436.059,3459.97,S,13830.01,E,1,4,1.7,2.0,M,,,,*29\\r\\n$GPGSA,A,3,8,11,15,22,,,,,,,,,1.7,1.7,1.1*0E\\r\\n$GPZDA,083436.059,17,11,2020,03,30*56\\r\\n!AIVDO,1,1,,A,17PaewhP0gar0>QcvAwPa@Q80000,0*19\\r\\n$WIMWV,285.0,T,11.0,N,A*1A\\r\\n$WIMWD,285.0,T,285.0,M,11.0,N,5.7,M*68\\r\\n$WIMWV,291.9,R,23.0,M,A*12\\r\\n$IIMTW,7.1,C*25\\r\\n$SDDPT,11.8,0.3*6C\\r\\n$SDDBT,38.8,f,11.8,M,6.5,F*0E\\r\\n$SDDBK,38.8,f,11.8,M,6.5,F*11\\r\\n$SDDBS,38.8,f,11.8,M,6.5,F*09\\r\\n!AIVDO,2,1,9,A,57Paewh00001<To7;?@plD5<Tl0000000000000U1@:552p`R2TnA3QF,0*48\\r\\n!AIVDO,2,2,9,A,@00000000000002,2*5D\\r\\n$IIRPM,E,1,0,10.5,A*7C\\r\\n$IIRPM,E,2,0,10.5,A*7F\\r\\n'\n"
     ]
    },
    {
     "ename": "KeyboardInterrupt",
     "evalue": "",
     "output_type": "error",
     "traceback": [
      "\u001b[0;31m---------------------------------------------------------------------------\u001b[0m",
      "\u001b[0;31mKeyboardInterrupt\u001b[0m                         Traceback (most recent call last)",
      "\u001b[0;32m<ipython-input-3-e994377e1d40>\u001b[0m in \u001b[0;36m<module>\u001b[0;34m\u001b[0m\n\u001b[1;32m      3\u001b[0m     \u001b[0mclient\u001b[0m\u001b[0;34m.\u001b[0m\u001b[0mconnect\u001b[0m\u001b[0;34m(\u001b[0m\u001b[0;34m(\u001b[0m\u001b[0mHost\u001b[0m\u001b[0;34m,\u001b[0m \u001b[0mPort\u001b[0m\u001b[0;34m)\u001b[0m\u001b[0;34m)\u001b[0m\u001b[0;34m\u001b[0m\u001b[0m\n\u001b[1;32m      4\u001b[0m     \u001b[0;32mwhile\u001b[0m \u001b[0;32mTrue\u001b[0m\u001b[0;34m:\u001b[0m\u001b[0;34m\u001b[0m\u001b[0m\n\u001b[0;32m----> 5\u001b[0;31m         \u001b[0mresponse\u001b[0m \u001b[0;34m=\u001b[0m \u001b[0mclient\u001b[0m\u001b[0;34m.\u001b[0m\u001b[0mrecv\u001b[0m\u001b[0;34m(\u001b[0m\u001b[0;36m1024\u001b[0m\u001b[0;34m)\u001b[0m\u001b[0;34m\u001b[0m\u001b[0m\n\u001b[0m\u001b[1;32m      6\u001b[0m         \u001b[0;32mif\u001b[0m \u001b[0mresponse\u001b[0m \u001b[0;34m!=\u001b[0m \u001b[0;34m\"\"\u001b[0m\u001b[0;34m:\u001b[0m\u001b[0;34m\u001b[0m\u001b[0m\n\u001b[1;32m      7\u001b[0m             \u001b[0mprint\u001b[0m\u001b[0;34m(\u001b[0m\u001b[0mresponse\u001b[0m\u001b[0;34m)\u001b[0m\u001b[0;34m\u001b[0m\u001b[0m\n",
      "\u001b[0;31mKeyboardInterrupt\u001b[0m: "
     ]
    }
   ],
   "source": [
    "listOfResponse = list()\n",
    "with socket.socket(socket.AF_INET, socket.SOCK_STREAM) as client:\n",
    "    client.connect((Host, Port))\n",
    "    while True:\n",
    "        response = client.recv(1024)\n",
    "        if response != \"\": \n",
    "            #print(response)\n",
    "            listOfResponse.append(response)"
   ]
  },
  {
   "cell_type": "code",
   "execution_count": 4,
   "metadata": {},
   "outputs": [
    {
     "data": {
      "text/plain": [
       "[b'$GPRMC,083429.151,A,3459.99,S,13830.01,E,4.9,15.8,171120,,,*05\\r\\n$IIVHW,15.8,T,15.8,M,4.9,N,9.0,K*51\\r\\n$IIHDT,15.8,T*1E\\r\\n$GPGLL,3459.99,S,13830.01,E,083429.151,A*2B\\r\\n$GPGGA,083429.151,3459.99,S,13830.01,E,1,4,1.4,2.0,M,,,,*23\\r\\n$GPGSA,A,3,8,11,15,22,,,,,,,,,1.4,1.4,1.4*0B\\r\\n$GPZDA,083429.151,17,11,2020,03,30*51\\r\\n!AIVDO,1,1,,A,17PaewhP0har0<UcvAD0W@Nr0000,0*20\\r\\n$WIMWV,299.3,T,13.2,N,A*14\\r\\n$WIMWD,299.3,T,299.3,M,13.2,N,6.8,M*64\\r\\n$WIMWV,301.7,R,29.3,M,A*1D\\r\\n$IIMTW,7.3,C*27\\r\\n$SDDPT,10.2,0.3*67\\r\\n$SDDBT,33.5,f,10.2,M,5.6,F*03\\r\\n$SDDBK,33.5,f,10.2,M,5.6,F*1C\\r\\n$SDDBS,33.5,f,10.2,M,5.6,F*04\\r\\n!AIVDO,2,1,9,A,57Paewh00001<To7;?@plD5<Tl0000000000000U1@:552p`R2TnA3QF,0*48\\r\\n!AIVDO,2,2,9,A,@00000000000002,2*5D\\r\\n$IIRPM,E,1,0,10.5,A*7C\\r\\n$IIRPM,E,2,0,10.5,A*7F\\r\\n',\n",
       " b'$GPRMC,083430.129,A,3459.98,S,13830.01,E,4.9,16.5,171120,,,*0D\\r\\n$IIVHW,16.5,T,16.5,M,4.9,N,9.1,K*50\\r\\n$IIHDT,16.5,T*10\\r\\n$GPGLL,3459.98,S,13830.01,E,083430.129,A*2D\\r\\n$GPGGA,083430.129,3459.98,S,13830.01,E,1,4,1.3,2.0,M,,,,*22\\r\\n$GPGSA,A,3,8,11,15,22,,,,,,,,,1.5,1.3,1.3*0A\\r\\n$GPZDA,083430.129,17,11,2020,03,30*56\\r\\n!AIVDO,1,1,,A,17PaewhP0iar0<ocvAJ@a@Pt0000,0*4B\\r\\n$WIMWV,285.0,T,11.0,N,A*1A\\r\\n$WIMWD,285.0,T,285.0,M,11.0,N,5.7,M*68\\r\\n$WIMWV,292.7,R,23.2,M,A*1D\\r\\n$IIMTW,7.4,C*20\\r\\n$SDDPT,9.7,0.3*5A\\r\\n$SDDBT,31.9,f,9.7,M,5.3,F*35\\r\\n$SDDBK,31.9,f,9.7,M,5.3,F*2A\\r\\n$SDDBS,31.9,f,9.7,M,5.3,F*32\\r\\n!AIVDO,2,1,9,A,57Paewh00001<To7;?@plD5<Tl0000000000000U1@:552p`R2TnA3QF,0*48\\r\\n!AIVDO,2,2,9,A,@00000000000002,2*5D\\r\\n$IIRPM,E,1,0,10.5,A*7C\\r\\n$IIRPM,E,2,0,10.5,A*7F\\r\\n',\n",
       " b'$GPRMC,083431.212,A,3459.98,S,13830.01,E,5.0,15.8,171120,,,*01\\r\\n$IIVHW,15.8,T,15.8,M,5.0,N,9.2,K*5B\\r\\n$IIHDT,15.8,T*1E\\r\\n$GPGLL,3459.98,S,13830.01,E,083431.212,A*27\\r\\n$GPGGA,083431.212,3459.98,S,13830.01,E,1,4,1.2,2.0,M,,,,*29\\r\\n$GPGSA,A,3,8,11,15,22,,,,,,,,,1.6,1.2,1.2*09\\r\\n$GPZDA,083431.212,17,11,2020,03,30*5C\\r\\n!AIVDO,1,1,,A,17PaewhP0iar0=;cvAQ@W@Nv0000,0*2F\\r\\n$WIMWV,271.4,T,9.2,N,A*2E\\r\\n$WIMWD,271.4,T,271.4,M,9.2,N,4.7,M*52\\r\\n$WIMWV,286.8,R,18.0,M,A*1D\\r\\n$IIMTW,7.4,C*20\\r\\n$SDDPT,10.2,0.3*67\\r\\n$SDDBT,33.5,f,10.2,M,5.6,F*03\\r\\n$SDDBK,33.5,f,10.2,M,5.6,F*1C\\r\\n$SDDBS,33.5,f,10.2,M,5.6,F*04\\r\\n!AIVDO,2,1,9,A,57Paewh00001<To7;?@plD5<Tl0000000000000U1@:552p`R2TnA3QF,0*48\\r\\n!AIVDO,2,2,9,A,@00000000000002,2*5D\\r\\n$IIRPM,E,1,0,10.5,A*7C\\r\\n$IIRPM,E,2,0,10.5,A*7F\\r\\n',\n",
       " b'$GPRMC,083432.462,A,3459.98,S,13830.01,E,4.9,16.5,171120,,,*05\\r\\n$IIVHW,16.5,T,16.5,M,4.9,N,9.1,K*50\\r\\n$IIHDT,16.5,T*10\\r\\n$GPGLL,3459.98,S,13830.01,E,083432.462,A*25\\r\\n$GPGGA,083432.462,3459.98,S,13830.01,E,1,4,1.3,2.0,M,,,,*2A\\r\\n$GPGSA,A,3,8,11,15,22,,,,,,,,,1.7,1.3,1.3*08\\r\\n$GPZDA,083432.462,17,11,2020,03,30*5E\\r\\n!AIVDO,1,1,,A,17PaewhP0iar0=QcvAa@a@Q00000,0*1A\\r\\n$WIMWV,258.5,T,7.6,N,A*2E\\r\\n$WIMWD,258.5,T,258.5,M,7.6,N,3.9,M*51\\r\\n$WIMWV,281.0,R,13.4,M,A*1D\\r\\n$IIMTW,7.4,C*20\\r\\n$SDDPT,10.7,0.3*62\\r\\n$SDDBT,35.2,f,10.7,M,5.9,F*08\\r\\n$SDDBK,35.2,f,10.7,M,5.9,F*17\\r\\n$SDDBS,35.2,f,10.7,M,5.9,F*0F\\r\\n!AIVDO,2,1,9,A,57Paewh00001<To7;?@plD5<Tl0000000000000U1@:552p`R2TnA3QF,0*48\\r\\n!AIVDO,2,2,9,A,@00000000000002,2*5D\\r\\n$IIRPM,E,1,0,10.5,A*7C\\r\\n$IIRPM,E,2,0,10.5,A*7F\\r\\n',\n",
       " b'$GPRMC,083433.254,A,3459.98,S,13830.01,E,4.9,15.8,171120,,,*09\\r\\n$IIVHW,15.8,T,15.8,M,4.9,N,9.0,K*51\\r\\n$IIHDT,15.8,T*1E\\r\\n$GPGLL,3459.98,S,13830.01,E,083433.254,A*27\\r\\n$GPGGA,083433.254,3459.98,S,13830.01,E,1,4,1.4,2.0,M,,,,*2F\\r\\n$GPGSA,A,3,8,11,15,22,,,,,,,,,1.6,1.4,1.2*0F\\r\\n$GPZDA,083433.254,17,11,2020,03,30*5C\\r\\n!AIVDO,1,1,,A,17PaewhP0har0=gcvAf@W@O20000,0*00\\r\\n$WIMWV,271.4,T,9.2,N,A*2E\\r\\n$WIMWD,271.4,T,271.4,M,9.2,N,4.7,M*52\\r\\n$WIMWV,286.2,R,18.0,M,A*17\\r\\n$IIMTW,7.3,C*27\\r\\n$SDDPT,11.3,0.3*67\\r\\n$SDDBT,36.9,f,11.3,M,6.2,F*0D\\r\\n$SDDBK,36.9,f,11.3,M,6.2,F*12\\r\\n$SDDBS,36.9,f,11.3,M,6.2,F*0A\\r\\n!AIVDO,2,1,9,A,57Paewh00001<To7;?@plD5<Tl0000000000000U1@:552p`R2TnA3QF,0*48\\r\\n!AIVDO,2,2,9,A,@00000000000002,2*5D\\r\\n$IIRPM,E,1,0,10.5,A*7C\\r\\n$IIRPM,E,2,0,10.5,A*7F\\r\\n',\n",
       " b'$GPRMC,083434.419,A,3459.97,S,13830.01,E,4.8,16.5,171120,,,*01\\r\\n$IIVHW,16.5,T,16.5,M,4.8,N,8.9,K*58\\r\\n$IIHDT,16.5,T*10\\r\\n$GPGLL,3459.97,S,13830.01,E,083434.419,A*20\\r\\n$GPGGA,083434.419,3459.97,S,13830.01,E,1,4,1.5,2.0,M,,,,*29\\r\\n$GPGSA,A,3,8,11,15,22,,,,,,,,,1.7,1.5,1.1*0C\\r\\n$GPZDA,083434.419,17,11,2020,03,30*54\\r\\n!AIVDO,1,1,,A,17PaewhP0har0>3cvAmPa@Q40000,0*62\\r\\n$WIMWV,258.5,T,11.0,N,A*1F\\r\\n$WIMWD,258.5,T,258.5,M,11.0,N,5.7,M*68\\r\\n$WIMWV,267.8,R,18.9,M,A*1B\\r\\n$IIMTW,7.2,C*26\\r\\n$SDDPT,11.8,0.3*6C\\r\\n$SDDBT,38.8,f,11.8,M,6.5,F*0E\\r\\n$SDDBK,38.8,f,11.8,M,6.5,F*11\\r\\n$SDDBS,38.8,f,11.8,M,6.5,F*09\\r\\n!AIVDO,2,1,9,A,57Paewh00001<To7;?@plD5<Tl0000000000000U1@:552p`R2TnA3QF,0*48\\r\\n!AIVDO,2,2,9,A,@00000000000002,2*5D\\r\\n$IIRPM,E,1,0,10.5,A*7C\\r\\n$IIRPM,E,2,0,10.5,A*7F\\r\\n',\n",
       " b'$GPRMC,083435.342,A,3459.97,S,13830.01,E,4.8,17.4,171120,,,*09\\r\\n$IIVHW,17.4,T,17.4,M,4.8,N,8.8,K*59\\r\\n$IIHDT,17.4,T*10\\r\\n$GPGLL,3459.97,S,13830.01,E,083435.342,A*28\\r\\n$GPGGA,083435.342,3459.97,S,13830.01,E,1,4,1.6,2.0,M,,,,*22\\r\\n$GPGSA,A,3,8,11,15,22,,,,,,,,,1.6,1.6,1.2*0D\\r\\n$GPZDA,083435.342,17,11,2020,03,30*5C\\r\\n!AIVDO,1,1,,A,17PaewhP0gar0>EcvAs0c@S60000,0*67\\r\\n$WIMWV,271.4,T,9.2,N,A*2E\\r\\n$WIMWD,271.4,T,271.4,M,9.2,N,4.7,M*52\\r\\n$WIMWV,284.3,R,17.7,M,A*1C\\r\\n$IIMTW,7.1,C*25\\r\\n$SDDPT,12.4,0.3*63\\r\\n$SDDBT,40.7,f,12.4,M,6.8,F*0C\\r\\n$SDDBK,40.7,f,12.4,M,6.8,F*13\\r\\n$SDDBS,40.7,f,12.4,M,6.8,F*0B\\r\\n!AIVDO,2,1,9,A,57Paewh00001<To7;?@plD5<Tl0000000000000U1@:552p`R2TnA3QF,0*48\\r\\n!AIVDO,2,2,9,A,@00000000000002,2*5D\\r\\n$IIRPM,E,1,0,10.5,A*7C\\r\\n$IIRPM,E,2,0,10.5,A*7F\\r\\n',\n",
       " b'$GPRMC,083436.059,A,3459.97,S,13830.01,E,4.7,16.5,171120,,,*0C\\r\\n$IIVHW,16.5,T,16.5,M,4.7,N,8.7,K*59\\r\\n$IIHDT,16.5,T*10\\r\\n$GPGLL,3459.97,S,13830.01,E,083436.059,A*22\\r\\n$GPGGA,083436.059,3459.97,S,13830.01,E,1,4,1.7,2.0,M,,,,*29\\r\\n$GPGSA,A,3,8,11,15,22,,,,,,,,,1.7,1.7,1.1*0E\\r\\n$GPZDA,083436.059,17,11,2020,03,30*56\\r\\n!AIVDO,1,1,,A,17PaewhP0gar0>QcvAwPa@Q80000,0*19\\r\\n$WIMWV,285.0,T,11.0,N,A*1A\\r\\n$WIMWD,285.0,T,285.0,M,11.0,N,5.7,M*68\\r\\n$WIMWV,291.9,R,23.0,M,A*12\\r\\n$IIMTW,7.1,C*25\\r\\n$SDDPT,11.8,0.3*6C\\r\\n$SDDBT,38.8,f,11.8,M,6.5,F*0E\\r\\n$SDDBK,38.8,f,11.8,M,6.5,F*11\\r\\n$SDDBS,38.8,f,11.8,M,6.5,F*09\\r\\n!AIVDO,2,1,9,A,57Paewh00001<To7;?@plD5<Tl0000000000000U1@:552p`R2TnA3QF,0*48\\r\\n!AIVDO,2,2,9,A,@00000000000002,2*5D\\r\\n$IIRPM,E,1,0,10.5,A*7C\\r\\n$IIRPM,E,2,0,10.5,A*7F\\r\\n']"
      ]
     },
     "execution_count": 4,
     "metadata": {},
     "output_type": "execute_result"
    }
   ],
   "source": [
    "listOfResponse"
   ]
  },
  {
   "cell_type": "code",
   "execution_count": 11,
   "metadata": {},
   "outputs": [
    {
     "name": "stdout",
     "output_type": "stream",
     "text": [
      "Collecting libais\n",
      "  Using cached https://files.pythonhosted.org/packages/8c/be/df64b5f1dfa2bc26f7cc4c8483129ef6cdf8683c93789439f67701fb4c26/libais-0.17.tar.gz\n",
      "Requirement already satisfied: six in /Library/Frameworks/Python.framework/Versions/3.6/lib/python3.6/site-packages (from libais) (1.11.0)\n",
      "Installing collected packages: libais\n",
      "    Running setup.py install for libais ... \u001b[?25lerror\n",
      "\u001b[31m    ERROR: Command errored out with exit status 1:\n",
      "     command: /Library/Frameworks/Python.framework/Versions/3.6/bin/python3.6 -u -c 'import sys, setuptools, tokenize; sys.argv[0] = '\"'\"'/private/var/folders/_5/57p8kq815dbb6970smy2xjzr0000gn/T/pip-install-4i6dy3br/libais/setup.py'\"'\"'; __file__='\"'\"'/private/var/folders/_5/57p8kq815dbb6970smy2xjzr0000gn/T/pip-install-4i6dy3br/libais/setup.py'\"'\"';f=getattr(tokenize, '\"'\"'open'\"'\"', open)(__file__);code=f.read().replace('\"'\"'\\r\\n'\"'\"', '\"'\"'\\n'\"'\"');f.close();exec(compile(code, __file__, '\"'\"'exec'\"'\"'))' install --record /private/var/folders/_5/57p8kq815dbb6970smy2xjzr0000gn/T/pip-record-e8brxdkz/install-record.txt --single-version-externally-managed --compile\n",
      "         cwd: /private/var/folders/_5/57p8kq815dbb6970smy2xjzr0000gn/T/pip-install-4i6dy3br/libais/\n",
      "    Complete output (40 lines):\n",
      "    running install\n",
      "    running build\n",
      "    running build_py\n",
      "    creating build\n",
      "    creating build/lib.macosx-10.6-intel-3.6\n",
      "    creating build/lib.macosx-10.6-intel-3.6/ais\n",
      "    copying ais/tag_block.py -> build/lib.macosx-10.6-intel-3.6/ais\n",
      "    copying ais/nmea.py -> build/lib.macosx-10.6-intel-3.6/ais\n",
      "    copying ais/util.py -> build/lib.macosx-10.6-intel-3.6/ais\n",
      "    copying ais/vdm.py -> build/lib.macosx-10.6-intel-3.6/ais\n",
      "    copying ais/nmea_messages.py -> build/lib.macosx-10.6-intel-3.6/ais\n",
      "    copying ais/io.py -> build/lib.macosx-10.6-intel-3.6/ais\n",
      "    copying ais/__init__.py -> build/lib.macosx-10.6-intel-3.6/ais\n",
      "    copying ais/nmea_queue.py -> build/lib.macosx-10.6-intel-3.6/ais\n",
      "    copying ais/uscg.py -> build/lib.macosx-10.6-intel-3.6/ais\n",
      "    copying ais/stats.py -> build/lib.macosx-10.6-intel-3.6/ais\n",
      "    copying ais/lut.py -> build/lib.macosx-10.6-intel-3.6/ais\n",
      "    creating build/lib.macosx-10.6-intel-3.6/test\n",
      "    creating build/lib.macosx-10.6-intel-3.6/test/compatibility\n",
      "    copying test/compatibility/__init__.py -> build/lib.macosx-10.6-intel-3.6/test/compatibility\n",
      "    copying test/compatibility/gpsd_test.py -> build/lib.macosx-10.6-intel-3.6/test/compatibility\n",
      "    creating build/lib.macosx-10.6-intel-3.6/ais/compatibility\n",
      "    copying ais/compatibility/gpsd.py -> build/lib.macosx-10.6-intel-3.6/ais/compatibility\n",
      "    copying ais/compatibility/__init__.py -> build/lib.macosx-10.6-intel-3.6/ais/compatibility\n",
      "    creating build/lib.macosx-10.6-intel-3.6/ais/stream\n",
      "    copying ais/stream/checksum.py -> build/lib.macosx-10.6-intel-3.6/ais/stream\n",
      "    copying ais/stream/__init__.py -> build/lib.macosx-10.6-intel-3.6/ais/stream\n",
      "    running build_ext\n",
      "    building '_ais' extension\n",
      "    creating build/temp.macosx-10.6-intel-3.6\n",
      "    creating build/temp.macosx-10.6-intel-3.6/src\n",
      "    creating build/temp.macosx-10.6-intel-3.6/src/libais\n",
      "    /usr/bin/clang -fno-strict-aliasing -Wsign-compare -fno-common -dynamic -DNDEBUG -g -fwrapv -O3 -Wall -Wstrict-prototypes -arch i386 -arch x86_64 -g -I/Library/Frameworks/Python.framework/Versions/3.6/include/python3.6m -c src/libais/ais_py.cpp -o build/temp.macosx-10.6-intel-3.6/src/libais/ais_py.o -std=c++11\n",
      "    warning: include path for stdlibc++ headers not found; pass '-stdlib=libc++' on the command line to use the libc++ standard library instead [-Wstdlibcxx-not-found]\n",
      "    In file included from src/libais/ais_py.cpp:6:\n",
      "    src/libais/ais.h:8:10: fatal error: 'array' file not found\n",
      "    #include <array>\n",
      "             ^~~~~~~\n",
      "    1 warning and 1 error generated.\n",
      "    error: command '/usr/bin/clang' failed with exit status 1\n",
      "    ----------------------------------------\u001b[0m\n",
      "\u001b[31mERROR: Command errored out with exit status 1: /Library/Frameworks/Python.framework/Versions/3.6/bin/python3.6 -u -c 'import sys, setuptools, tokenize; sys.argv[0] = '\"'\"'/private/var/folders/_5/57p8kq815dbb6970smy2xjzr0000gn/T/pip-install-4i6dy3br/libais/setup.py'\"'\"'; __file__='\"'\"'/private/var/folders/_5/57p8kq815dbb6970smy2xjzr0000gn/T/pip-install-4i6dy3br/libais/setup.py'\"'\"';f=getattr(tokenize, '\"'\"'open'\"'\"', open)(__file__);code=f.read().replace('\"'\"'\\r\\n'\"'\"', '\"'\"'\\n'\"'\"');f.close();exec(compile(code, __file__, '\"'\"'exec'\"'\"'))' install --record /private/var/folders/_5/57p8kq815dbb6970smy2xjzr0000gn/T/pip-record-e8brxdkz/install-record.txt --single-version-externally-managed --compile Check the logs for full command output.\u001b[0m\n",
      "\u001b[33mWARNING: You are using pip version 19.3.1; however, version 20.2.4 is available.\n",
      "You should consider upgrading via the 'pip install --upgrade pip' command.\u001b[0m\n",
      "\u001b[?25h"
     ]
    }
   ],
   "source": [
    "! pip3 install libais"
   ]
  },
  {
   "cell_type": "code",
   "execution_count": null,
   "metadata": {
    "collapsed": true
   },
   "outputs": [],
   "source": []
  }
 ],
 "metadata": {
  "kernelspec": {
   "display_name": "Python 3",
   "language": "python",
   "name": "python3"
  },
  "language_info": {
   "codemirror_mode": {
    "name": "ipython",
    "version": 3
   },
   "file_extension": ".py",
   "mimetype": "text/x-python",
   "name": "python",
   "nbconvert_exporter": "python",
   "pygments_lexer": "ipython3",
   "version": "3.6.4"
  }
 },
 "nbformat": 4,
 "nbformat_minor": 2
}
