{
 "cells": [
  {
   "cell_type": "code",
   "execution_count": 3,
   "metadata": {
    "collapsed": true
   },
   "outputs": [],
   "source": [
    "from arcgis.gis import GIS\n",
    "import pandas as pd"
   ]
  },
  {
   "cell_type": "code",
   "execution_count": 2,
   "metadata": {
    "collapsed": true
   },
   "outputs": [],
   "source": [
    "gis = GIS()"
   ]
  },
  {
   "cell_type": "code",
   "execution_count": 4,
   "metadata": {
    "collapsed": true
   },
   "outputs": [],
   "source": [
    "df = pd.read_csv('ais.csv')"
   ]
  },
  {
   "cell_type": "code",
   "execution_count": 5,
   "metadata": {},
   "outputs": [
    {
     "data": {
      "text/html": [
       "<div>\n",
       "<style scoped>\n",
       "    .dataframe tbody tr th:only-of-type {\n",
       "        vertical-align: middle;\n",
       "    }\n",
       "\n",
       "    .dataframe tbody tr th {\n",
       "        vertical-align: top;\n",
       "    }\n",
       "\n",
       "    .dataframe thead th {\n",
       "        text-align: right;\n",
       "    }\n",
       "</style>\n",
       "<table border=\"1\" class=\"dataframe\">\n",
       "  <thead>\n",
       "    <tr style=\"text-align: right;\">\n",
       "      <th></th>\n",
       "      <th>Unnamed: 0</th>\n",
       "      <th>id</th>\n",
       "      <th>repeat_indicator</th>\n",
       "      <th>mmsi</th>\n",
       "      <th>nav_status</th>\n",
       "      <th>rot_over_range</th>\n",
       "      <th>rot</th>\n",
       "      <th>sog</th>\n",
       "      <th>position_accuracy</th>\n",
       "      <th>x</th>\n",
       "      <th>y</th>\n",
       "      <th>cog</th>\n",
       "      <th>true_heading</th>\n",
       "      <th>timestamp</th>\n",
       "      <th>special_manoeuvre</th>\n",
       "      <th>spare</th>\n",
       "      <th>raim</th>\n",
       "      <th>sync_state</th>\n",
       "      <th>slot_timeout</th>\n",
       "      <th>slot_offset</th>\n",
       "    </tr>\n",
       "  </thead>\n",
       "  <tbody>\n",
       "    <tr>\n",
       "      <th>0</th>\n",
       "      <td>0</td>\n",
       "      <td>1</td>\n",
       "      <td>0</td>\n",
       "      <td>503999999</td>\n",
       "      <td>0</td>\n",
       "      <td>True</td>\n",
       "      <td>-731.386475</td>\n",
       "      <td>5.2</td>\n",
       "      <td>1</td>\n",
       "      <td>138.501105</td>\n",
       "      <td>-34.996498</td>\n",
       "      <td>14.2</td>\n",
       "      <td>14</td>\n",
       "      <td>17</td>\n",
       "      <td>0</td>\n",
       "      <td>0</td>\n",
       "      <td>False</td>\n",
       "      <td>0</td>\n",
       "      <td>0</td>\n",
       "      <td>0</td>\n",
       "    </tr>\n",
       "    <tr>\n",
       "      <th>1</th>\n",
       "      <td>1</td>\n",
       "      <td>1</td>\n",
       "      <td>0</td>\n",
       "      <td>503999999</td>\n",
       "      <td>0</td>\n",
       "      <td>True</td>\n",
       "      <td>-731.386475</td>\n",
       "      <td>5.3</td>\n",
       "      <td>1</td>\n",
       "      <td>138.501120</td>\n",
       "      <td>-34.996452</td>\n",
       "      <td>15.0</td>\n",
       "      <td>15</td>\n",
       "      <td>18</td>\n",
       "      <td>0</td>\n",
       "      <td>0</td>\n",
       "      <td>False</td>\n",
       "      <td>0</td>\n",
       "      <td>0</td>\n",
       "      <td>0</td>\n",
       "    </tr>\n",
       "    <tr>\n",
       "      <th>2</th>\n",
       "      <td>2</td>\n",
       "      <td>1</td>\n",
       "      <td>0</td>\n",
       "      <td>503999999</td>\n",
       "      <td>0</td>\n",
       "      <td>True</td>\n",
       "      <td>-731.386475</td>\n",
       "      <td>5.3</td>\n",
       "      <td>1</td>\n",
       "      <td>138.501142</td>\n",
       "      <td>-34.996382</td>\n",
       "      <td>14.2</td>\n",
       "      <td>14</td>\n",
       "      <td>19</td>\n",
       "      <td>0</td>\n",
       "      <td>0</td>\n",
       "      <td>False</td>\n",
       "      <td>0</td>\n",
       "      <td>0</td>\n",
       "      <td>0</td>\n",
       "    </tr>\n",
       "    <tr>\n",
       "      <th>3</th>\n",
       "      <td>3</td>\n",
       "      <td>1</td>\n",
       "      <td>0</td>\n",
       "      <td>503999999</td>\n",
       "      <td>0</td>\n",
       "      <td>True</td>\n",
       "      <td>-731.386475</td>\n",
       "      <td>5.3</td>\n",
       "      <td>1</td>\n",
       "      <td>138.501152</td>\n",
       "      <td>-34.996350</td>\n",
       "      <td>15.0</td>\n",
       "      <td>15</td>\n",
       "      <td>20</td>\n",
       "      <td>0</td>\n",
       "      <td>0</td>\n",
       "      <td>False</td>\n",
       "      <td>0</td>\n",
       "      <td>0</td>\n",
       "      <td>0</td>\n",
       "    </tr>\n",
       "    <tr>\n",
       "      <th>4</th>\n",
       "      <td>4</td>\n",
       "      <td>1</td>\n",
       "      <td>0</td>\n",
       "      <td>503999999</td>\n",
       "      <td>0</td>\n",
       "      <td>True</td>\n",
       "      <td>-731.386475</td>\n",
       "      <td>5.2</td>\n",
       "      <td>1</td>\n",
       "      <td>138.501172</td>\n",
       "      <td>-34.996295</td>\n",
       "      <td>15.7</td>\n",
       "      <td>15</td>\n",
       "      <td>21</td>\n",
       "      <td>0</td>\n",
       "      <td>0</td>\n",
       "      <td>False</td>\n",
       "      <td>0</td>\n",
       "      <td>0</td>\n",
       "      <td>0</td>\n",
       "    </tr>\n",
       "    <tr>\n",
       "      <th>5</th>\n",
       "      <td>5</td>\n",
       "      <td>1</td>\n",
       "      <td>0</td>\n",
       "      <td>503999999</td>\n",
       "      <td>0</td>\n",
       "      <td>True</td>\n",
       "      <td>-731.386475</td>\n",
       "      <td>5.3</td>\n",
       "      <td>1</td>\n",
       "      <td>138.501185</td>\n",
       "      <td>-34.996253</td>\n",
       "      <td>15.0</td>\n",
       "      <td>15</td>\n",
       "      <td>22</td>\n",
       "      <td>0</td>\n",
       "      <td>0</td>\n",
       "      <td>False</td>\n",
       "      <td>0</td>\n",
       "      <td>0</td>\n",
       "      <td>0</td>\n",
       "    </tr>\n",
       "    <tr>\n",
       "      <th>6</th>\n",
       "      <td>6</td>\n",
       "      <td>1</td>\n",
       "      <td>0</td>\n",
       "      <td>503999999</td>\n",
       "      <td>0</td>\n",
       "      <td>True</td>\n",
       "      <td>-731.386475</td>\n",
       "      <td>5.3</td>\n",
       "      <td>1</td>\n",
       "      <td>138.501200</td>\n",
       "      <td>-34.996207</td>\n",
       "      <td>14.2</td>\n",
       "      <td>14</td>\n",
       "      <td>23</td>\n",
       "      <td>0</td>\n",
       "      <td>0</td>\n",
       "      <td>False</td>\n",
       "      <td>0</td>\n",
       "      <td>0</td>\n",
       "      <td>0</td>\n",
       "    </tr>\n",
       "    <tr>\n",
       "      <th>7</th>\n",
       "      <td>7</td>\n",
       "      <td>1</td>\n",
       "      <td>0</td>\n",
       "      <td>503999999</td>\n",
       "      <td>0</td>\n",
       "      <td>True</td>\n",
       "      <td>-731.386475</td>\n",
       "      <td>5.4</td>\n",
       "      <td>1</td>\n",
       "      <td>138.501215</td>\n",
       "      <td>-34.996158</td>\n",
       "      <td>15.0</td>\n",
       "      <td>15</td>\n",
       "      <td>24</td>\n",
       "      <td>0</td>\n",
       "      <td>0</td>\n",
       "      <td>False</td>\n",
       "      <td>0</td>\n",
       "      <td>0</td>\n",
       "      <td>0</td>\n",
       "    </tr>\n",
       "  </tbody>\n",
       "</table>\n",
       "</div>"
      ],
      "text/plain": [
       "   Unnamed: 0  id  repeat_indicator       mmsi  nav_status  rot_over_range  \\\n",
       "0           0   1                 0  503999999           0            True   \n",
       "1           1   1                 0  503999999           0            True   \n",
       "2           2   1                 0  503999999           0            True   \n",
       "3           3   1                 0  503999999           0            True   \n",
       "4           4   1                 0  503999999           0            True   \n",
       "5           5   1                 0  503999999           0            True   \n",
       "6           6   1                 0  503999999           0            True   \n",
       "7           7   1                 0  503999999           0            True   \n",
       "\n",
       "          rot  sog  position_accuracy           x          y   cog  \\\n",
       "0 -731.386475  5.2                  1  138.501105 -34.996498  14.2   \n",
       "1 -731.386475  5.3                  1  138.501120 -34.996452  15.0   \n",
       "2 -731.386475  5.3                  1  138.501142 -34.996382  14.2   \n",
       "3 -731.386475  5.3                  1  138.501152 -34.996350  15.0   \n",
       "4 -731.386475  5.2                  1  138.501172 -34.996295  15.7   \n",
       "5 -731.386475  5.3                  1  138.501185 -34.996253  15.0   \n",
       "6 -731.386475  5.3                  1  138.501200 -34.996207  14.2   \n",
       "7 -731.386475  5.4                  1  138.501215 -34.996158  15.0   \n",
       "\n",
       "   true_heading  timestamp  special_manoeuvre  spare   raim  sync_state  \\\n",
       "0            14         17                  0      0  False           0   \n",
       "1            15         18                  0      0  False           0   \n",
       "2            14         19                  0      0  False           0   \n",
       "3            15         20                  0      0  False           0   \n",
       "4            15         21                  0      0  False           0   \n",
       "5            15         22                  0      0  False           0   \n",
       "6            14         23                  0      0  False           0   \n",
       "7            15         24                  0      0  False           0   \n",
       "\n",
       "   slot_timeout  slot_offset  \n",
       "0             0            0  \n",
       "1             0            0  \n",
       "2             0            0  \n",
       "3             0            0  \n",
       "4             0            0  \n",
       "5             0            0  \n",
       "6             0            0  \n",
       "7             0            0  "
      ]
     },
     "execution_count": 5,
     "metadata": {},
     "output_type": "execute_result"
    }
   ],
   "source": [
    "df"
   ]
  },
  {
   "cell_type": "code",
   "execution_count": 6,
   "metadata": {
    "collapsed": true
   },
   "outputs": [],
   "source": [
    "map_ = gis.map()"
   ]
  },
  {
   "cell_type": "code",
   "execution_count": 7,
   "metadata": {
    "collapsed": true
   },
   "outputs": [],
   "source": [
    "ships = gis.content.import_data(df)"
   ]
  },
  {
   "cell_type": "code",
   "execution_count": 9,
   "metadata": {},
   "outputs": [],
   "source": [
    "map_.add_layer(ships)"
   ]
  },
  {
   "cell_type": "code",
   "execution_count": 14,
   "metadata": {},
   "outputs": [
    {
     "data": {
      "application/vnd.jupyter.widget-view+json": {
       "model_id": "c4c96efe33664526b9cb00ace55b68a5",
       "version_major": 2,
       "version_minor": 0
      },
      "text/plain": [
       "MapView(layout=Layout(height='400px', width='100%'))"
      ]
     },
     "metadata": {},
     "output_type": "display_data"
    },
    {
     "data": {
      "text/html": [
       "<div class=\"map-static-img-preview-61905bde-7c95-4d38-9b41-f8c974932d5a\"><img src=\"\"></img></div>"
      ],
      "text/plain": [
       "<IPython.core.display.HTML object>"
      ]
     },
     "metadata": {},
     "output_type": "display_data"
    }
   ],
   "source": [
    "map_"
   ]
  },
  {
   "cell_type": "code",
   "execution_count": null,
   "metadata": {
    "collapsed": true
   },
   "outputs": [],
   "source": []
  }
 ],
 "metadata": {
  "kernelspec": {
   "display_name": "Python 3",
   "language": "python",
   "name": "python3"
  },
  "language_info": {
   "codemirror_mode": {
    "name": "ipython",
    "version": 3
   },
   "file_extension": ".py",
   "mimetype": "text/x-python",
   "name": "python",
   "nbconvert_exporter": "python",
   "pygments_lexer": "ipython3",
   "version": "3.6.4"
  }
 },
 "nbformat": 4,
 "nbformat_minor": 2
}
